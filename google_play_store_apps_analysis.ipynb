{
  "nbformat": 4,
  "nbformat_minor": 0,
  "metadata": {
    "colab": {
      "provenance": []
    },
    "kernelspec": {
      "name": "python3",
      "display_name": "Python 3"
    },
    "language_info": {
      "name": "python"
    }
  },
  "cells": [
    {
      "cell_type": "markdown",
      "source": [
        "# Google Play Store Apps Analysis\n",
        "\n",
        "<img src=\"https://storage.googleapis.com/kaggle-datasets-images/49864/90482/cd5596dc740da68fc6896566758e60b4/dataset-cover.jpg?t=2018-09-07-13-48-45\">\n",
        "\n",
        "The Play Store apps data has enormous potential to drive app-making businesses to success. Actionable insights can be drawn for developers to work on and capture the Android market!\n",
        "\n",
        "### About Dataset\n",
        "The dataset is fetched from kaggle and belongs to **Lavanya Gupta (https://www.kaggle.com/lava18/google-play-store-apps)**\n",
        "\n",
        "Google Play, also known as the Google Play Store and formerly Android Market, is a digital distribution service operated and developed by Google.\n",
        "\n",
        "Learn more about it https://en.wikipedia.org/wiki/Google_Play"
      ],
      "metadata": {
        "id": "-o2ZDH5Far5Z"
      }
    },
    {
      "cell_type": "markdown",
      "source": [
        "# Introduction\n",
        "\n",
        "### Exploratory Data Analysis using Python\n",
        "\n",
        "Google Play is a Digital distribution service by Google,  it is a popular service that people across the world use for entertainment. Google Play has also served as a digital media store, offering games, music, books, movies, and television programs.\n",
        "In this EDA, I will explore the Google Play Store Apps  dataset through visualizations and graphs using matplotlib and seaborn.\n",
        "\n",
        "I got this dataset from Kaggle and Here is the link to the dataset - https://www.kaggle.com/lava18/google-play-store-apps\n",
        "\n",
        "You can also use the following dataset - https://www.kaggle.com/datasets/neomatrix369/google-play-store-apps-extended.\n",
        "which is the extended version of original dataset.\n",
        "\n",
        "\n",
        "\n",
        "This project is a part of the course [Data Analysis with Python: Zero to Pandas](zerotopandas.com), on `Jovian.ai` taught by the instructor `Aakash N S`, Who is one of the best instructor I have ever seen in the Data Science domain.\n",
        "\n",
        "Learning new things, solving coding challenges & assignments alongside was the great fun thing of this course and It was a great experience with this course.\n",
        "\n",
        "I learned so many topics like\n",
        "\n",
        "- 1. `First Steps with Python and Jupyter`\n",
        "- 2. `A Quick Tour of Variables and Data Types`\n",
        "- 3. `Branching using Conditional Statements and Loops`\n",
        "- 4. `Writing Reusable Code Using Functions`\n",
        "- 5. `Reading from and Writing to Files and Interacting with the filesystem using the os module`\n",
        "- 6. `Numerical Computing with Python and Numpy`\n",
        "- 7. `Analyzing Tabular Data using Pandas`\n",
        "- 8. `Data Visualization using Matplotlib & Seaborn`\n",
        "\n",
        "Apart from that many Tips & Advice in detail.\n",
        "\n",
        "Let's learn Exploratory Data Analysis with Python by analyzing the Google Play Store Apps and Explore the Google Play Store Apps dataset through visualizations and graphs using matplotlib and seaborn. Learn how to handle null values in the data and split it into separate datasets. Follow along with the Python code for data preparation and cleaning."
      ],
      "metadata": {
        "id": "UNTdvg_5aw_R"
      }
    },
    {
      "cell_type": "markdown",
      "source": [
        "## TABLE OF CONTENTS\n",
        "\n",
        "### 1. Download and Read the Dataset\n",
        "       \n",
        "### 2. Data Preparation and Cleaning\n",
        "\n",
        "### 3. Exploratory Data Analysis (EDA) and Visualization\n",
        "\n",
        "### 4. Asking and Answering Questions\n",
        "\n",
        "### 5. Inferences and Conclusion.\n",
        "\n",
        "### 6. References and Future Work"
      ],
      "metadata": {
        "id": "jOiC-tQ-a7ih"
      }
    },
    {
      "cell_type": "markdown",
      "source": [
        "# Downloading the Dataset\n",
        "\n",
        "In this Project, we'll analyze the Google Play Store Apps dataset. You can find the raw data & official analysis here: https://www.kaggle.com/datasets/neomatrix369/google-play-store-apps-extended.\n",
        "\n",
        "Or you can go for https://www.kaggle.com/lava18/google-play-store-apps\n",
        "\n",
        "There are several options for getting the dataset into Jupyter:\n",
        "\n",
        "1. Download the CSV manually and upload it via Jupyter's GUI\n",
        "2. Use the urlretrieve function from the urllib.request to download CSV files from a raw URL\n",
        "3. Use a helper library, e.g., opendatasets, which contains a collection of curated datasets and provides a helper function for direct download.\n",
        "\n",
        "We'll go for the 3rd option to use the dataset in Jupyter."
      ],
      "metadata": {
        "id": "2RhfaG1SbQAB"
      }
    },
    {
      "cell_type": "code",
      "source": [
        "# !pip install jovian opendatasets --upgrade --quiet"
      ],
      "metadata": {
        "id": "5BHBDlbuxUVh"
      },
      "execution_count": 1,
      "outputs": []
    },
    {
      "cell_type": "code",
      "source": [
        "!pip install opendatasets --upgrade --quiet"
      ],
      "metadata": {
        "id": "Z_VUigKiawJT"
      },
      "execution_count": 2,
      "outputs": []
    },
    {
      "cell_type": "markdown",
      "source": [
        "### Package Install and Import\n",
        "First, we will install and import necessary packages."
      ],
      "metadata": {
        "id": "6WHZbJWobXPh"
      }
    },
    {
      "cell_type": "code",
      "source": [
        "import pandas as pd\n",
        "import numpy as np\n",
        "import matplotlib.pyplot as plt\n",
        "import seaborn as sns\n",
        "%matplotlib inline"
      ],
      "metadata": {
        "id": "cW0BLDk7bVEL"
      },
      "execution_count": 3,
      "outputs": []
    },
    {
      "cell_type": "markdown",
      "source": [
        "Let's begin by downloading the data, and listing the files within the dataset."
      ],
      "metadata": {
        "id": "vnmcUKMtbgE5"
      }
    },
    {
      "cell_type": "code",
      "source": [
        "# Downloading the dataset\n",
        "# dataset_url = 'https://www.kaggle.com/datasets/neomatrix369/google-play-store-apps-extended'\n",
        "\n",
        "dataset_url = 'https://www.kaggle.com/lava18/google-play-store-apps'"
      ],
      "metadata": {
        "id": "2ae3rnvBbdDJ"
      },
      "execution_count": 4,
      "outputs": []
    },
    {
      "cell_type": "code",
      "source": [
        "import opendatasets as od\n",
        "od.download(dataset_url)"
      ],
      "metadata": {
        "colab": {
          "base_uri": "https://localhost:8080/"
        },
        "id": "z2g2-aPbbj8a",
        "outputId": "5f0ceb53-67f6-4ac6-f397-c50e13f2a878"
      },
      "execution_count": null,
      "outputs": [
        {
          "output_type": "stream",
          "name": "stdout",
          "text": [
            "Please provide your Kaggle credentials to download this dataset. Learn more: http://bit.ly/kaggle-creds\n",
            "Your Kaggle username:"
          ]
        }
      ]
    },
    {
      "cell_type": "markdown",
      "source": [
        "The dataset has been downloaded and extracted."
      ],
      "metadata": {
        "id": "-oQJdm6KbyR5"
      }
    },
    {
      "cell_type": "markdown",
      "source": [
        "Let us save and upload our work to Jovian before continuing."
      ],
      "metadata": {
        "id": "kBo9wkrYxa0z"
      }
    },
    {
      "cell_type": "code",
      "source": [
        "project_name = \"google-play-store-apps-analysis\" # change this (use lowercase letters and hyphens only)"
      ],
      "metadata": {
        "id": "xBWFDoM8xaNg"
      },
      "execution_count": null,
      "outputs": []
    },
    {
      "cell_type": "code",
      "source": [
        "# !pip install jovian --upgrade -q"
      ],
      "metadata": {
        "id": "Ev_L5IFAxevx"
      },
      "execution_count": null,
      "outputs": []
    },
    {
      "cell_type": "code",
      "source": [
        "# import jovian"
      ],
      "metadata": {
        "id": "hJD4hYPGxhbB"
      },
      "execution_count": null,
      "outputs": []
    },
    {
      "cell_type": "code",
      "source": [
        "# jovian.commit(project=project_name)"
      ],
      "metadata": {
        "id": "HnHmFdb-xjhw"
      },
      "execution_count": null,
      "outputs": []
    },
    {
      "cell_type": "markdown",
      "source": [
        "# Data Preparation and Cleaning\n",
        "\n",
        "In all data-analysis projects, the data preparation step is not only necessary but also vital to find and handle features that could cause some problems while making the quantitative analysis, or that could lead to low efficient coding. According to `Alivia Smith`, this step usually takes up to 80% of the entire time of a data analysis project.\n",
        "Therefore, missing, invalid, and inconsistent values have been addressed."
      ],
      "metadata": {
        "id": "TePDQOaDb1cZ"
      }
    },
    {
      "cell_type": "markdown",
      "source": [
        "As with any dataset, the first steps are going to be data exploration and data cleaning. We need to get a better understanding of what we're dealing with\n",
        "\n",
        "> - Load the dataset into a data frame using Pandas\n",
        "> - Explore the number of rows & columns, ranges of values etc.\n",
        "> - Handle missing, incorrect and invalid data\n",
        "> - Perform any additional steps (parsing dates, creating additional columns, merging multiple dataset etc.)"
      ],
      "metadata": {
        "id": "kLx9voxsb4FB"
      }
    },
    {
      "cell_type": "markdown",
      "source": [
        "### Load the dataset into a data frame using Pandas"
      ],
      "metadata": {
        "id": "Mu4LXYiMb6oo"
      }
    },
    {
      "cell_type": "code",
      "source": [
        "# You can go for anyone of the following datasets\n",
        "# df_apps = pd.read_csv('google-play-store-apps-extended/googleplaystore.csv')\n",
        "\n",
        "df_apps = pd.read_csv('google-play-store-apps/googleplaystore.csv')"
      ],
      "metadata": {
        "id": "40eB3MAnblup"
      },
      "execution_count": null,
      "outputs": []
    },
    {
      "cell_type": "markdown",
      "source": [
        "## Preliminary Data Exploration and Data Cleaning with Pandas\n",
        "\n",
        "Now that we've got our data loaded into our dataframe, we need to take a closer look at it to help us understand what it is we are working with. This is always the first step with any data science project. Let's see if we can answer the following questions:\n",
        "\n",
        "- 1. How many rows and columns does the dataset contain?\n",
        "\n",
        "- 2. How many columns does it have?\n",
        "\n",
        "- 3. What are the labels for the columns? Do the columns have names?\n",
        "\n",
        "- 4. Are there any missing values in our dataframe?\n",
        "\n",
        "- 5. Does our dataframe contain any bad data?\n",
        "\n",
        "- 6. Are there any NaN values present?\n",
        "\n",
        "- 7. Are there any duplicate rows?\n",
        "\n",
        "- 8. What are the data types of the columns?\n",
        "\n",
        "\n",
        "The first step as always is getting a better idea about what we're dealing with."
      ],
      "metadata": {
        "id": "y-PusQwfb_vR"
      }
    },
    {
      "cell_type": "markdown",
      "source": [
        "### Explore the number of rows & columns, ranges of values etc."
      ],
      "metadata": {
        "id": "yF-3JtI4cDTo"
      }
    },
    {
      "cell_type": "markdown",
      "source": [
        "To see the number of rows and columns we can use the `shape` attribute:"
      ],
      "metadata": {
        "id": "mQIt9V3EcMt4"
      }
    },
    {
      "cell_type": "code",
      "source": [
        "df_apps.shape"
      ],
      "metadata": {
        "id": "vZvCDskTb9mo"
      },
      "execution_count": null,
      "outputs": []
    },
    {
      "cell_type": "markdown",
      "source": [
        "we are working with a fairly large DataFrame this time.\n",
        "It tells us we have 10841 rows and 13 columns."
      ],
      "metadata": {
        "id": "odACWU1gcQ-J"
      }
    },
    {
      "cell_type": "markdown",
      "source": [
        "Now take a look at the Pandas dataframe we've just created with `.head()`."
      ],
      "metadata": {
        "id": "4_2sJUXKcT05"
      }
    },
    {
      "cell_type": "code",
      "source": [
        "df_apps.head()"
      ],
      "metadata": {
        "id": "LJuoNQzxcPNJ"
      },
      "execution_count": null,
      "outputs": []
    },
    {
      "cell_type": "markdown",
      "source": [
        "As we can see there is '+' sign after every entry in the Installs column"
      ],
      "metadata": {
        "id": "ejb6JypncX7c"
      }
    },
    {
      "cell_type": "code",
      "source": [
        "df_apps.tail()"
      ],
      "metadata": {
        "id": "2a6DWQERcV55"
      },
      "execution_count": null,
      "outputs": []
    },
    {
      "cell_type": "code",
      "source": [
        "# What are the labels for the columns? Do the columns have names?\n",
        "\n",
        "df_apps.columns"
      ],
      "metadata": {
        "id": "QoYSRnp4cbAc"
      },
      "execution_count": null,
      "outputs": []
    },
    {
      "cell_type": "markdown",
      "source": [
        "### How many columns does our dataframe have?"
      ],
      "metadata": {
        "id": "ASWJM7H1cfhk"
      }
    },
    {
      "cell_type": "code",
      "source": [
        "len(df_apps.columns)"
      ],
      "metadata": {
        "id": "OHy70_LWceGs"
      },
      "execution_count": null,
      "outputs": []
    },
    {
      "cell_type": "markdown",
      "source": [
        "### Handle missing, incorrect and invalid data\n",
        "\n",
        "#### Remove '+' from the values of number of installs and converting it to numeric"
      ],
      "metadata": {
        "id": "Sf9dvZcgcjwN"
      }
    },
    {
      "cell_type": "code",
      "source": [
        "df_apps['Installs'] = df_apps['Installs'].map(lambda x: x.rstrip('+'))"
      ],
      "metadata": {
        "id": "TCqgKrorchyd"
      },
      "execution_count": null,
      "outputs": []
    },
    {
      "cell_type": "code",
      "source": [
        "df_apps['Installs'] = pd.to_numeric(df_apps['Installs'].str.replace(',',''))"
      ],
      "metadata": {
        "id": "6QmTpW-BcmDZ"
      },
      "execution_count": null,
      "outputs": []
    },
    {
      "cell_type": "markdown",
      "source": [
        "As we can see in the above code cell, the error says that ValueError: Unable to parse string \"Free\" at position 10472\n",
        "So, Yes there are some missing values in our dataframe."
      ],
      "metadata": {
        "id": "o6ZhjuQ7cpdJ"
      }
    },
    {
      "cell_type": "markdown",
      "source": [
        "#### Removing 10472 due to value error in the column"
      ],
      "metadata": {
        "id": "rpMBGx4xctJg"
      }
    },
    {
      "cell_type": "code",
      "source": [
        "# Row 10472 removed due to missing value of Category\n",
        "df_apps.drop(df_apps.index[10472], inplace=True)"
      ],
      "metadata": {
        "id": "3jObT89Kcncp"
      },
      "execution_count": null,
      "outputs": []
    },
    {
      "cell_type": "code",
      "source": [
        "df_apps.info()"
      ],
      "metadata": {
        "id": "A0iLZY9bcwuI"
      },
      "execution_count": null,
      "outputs": []
    },
    {
      "cell_type": "markdown",
      "source": [
        "We can answer many of the questions with a single command: **.describe()**."
      ],
      "metadata": {
        "id": "58pO_R1vc1Qh"
      }
    },
    {
      "cell_type": "code",
      "source": [
        "df_apps.describe()"
      ],
      "metadata": {
        "id": "44YGWLZ-czMI"
      },
      "execution_count": null,
      "outputs": []
    },
    {
      "cell_type": "markdown",
      "source": [
        "The average apps rating is about 4.300000. So that's encouraging.\n",
        "\n",
        "But quite a lot of apps have terrible rating too. In fact, all the apps in the bottom quartile are apps with bad rating,\n",
        "since The minimum rating is 1. That makes sense. If a app never gets installed or is downloaded, then this is the number we would expect to see here.\n",
        "\n",
        "On the other hand, the highest rating was 5.000000! Holy smokes.\n",
        "\n",
        "**So which app was the lowest rated apps in the dataset?**"
      ],
      "metadata": {
        "id": "Bp49pAQ_c6dx"
      }
    },
    {
      "cell_type": "code",
      "source": [
        "df_apps[df_apps.Rating == 1.000000]"
      ],
      "metadata": {
        "id": "ZM-199a_c3tp"
      },
      "execution_count": null,
      "outputs": []
    },
    {
      "cell_type": "markdown",
      "source": [
        "**And the highest rated apps in the dataset are:**"
      ],
      "metadata": {
        "id": "tN4hGoagdErT"
      }
    },
    {
      "cell_type": "code",
      "source": [
        "df_apps[df_apps.Rating == 5.000000]"
      ],
      "metadata": {
        "id": "-CIvftRGc-ep"
      },
      "execution_count": null,
      "outputs": []
    },
    {
      "cell_type": "code",
      "source": [
        "df_apps.sample()"
      ],
      "metadata": {
        "id": "nlSdK2K0dHdr"
      },
      "execution_count": null,
      "outputs": []
    },
    {
      "cell_type": "code",
      "source": [
        "df_apps.info()"
      ],
      "metadata": {
        "id": "W85LVAfVdJkL"
      },
      "execution_count": null,
      "outputs": []
    },
    {
      "cell_type": "code",
      "source": [
        "df_apps.sample(5)"
      ],
      "metadata": {
        "id": "erbDum6EdQAL"
      },
      "execution_count": null,
      "outputs": []
    },
    {
      "cell_type": "markdown",
      "source": [
        "- Check the datatype of the Reviews, Installs, Price column.\n",
        "- Convert the number of installations (the Installs column) to a numeric data type."
      ],
      "metadata": {
        "id": "6vsg0itddU5W"
      }
    },
    {
      "cell_type": "markdown",
      "source": [
        "To check the data types you can either use `.describe()` on the column or `.info()` on the DataFrame."
      ],
      "metadata": {
        "id": "bLWf7kWZdW8G"
      }
    },
    {
      "cell_type": "code",
      "source": [
        "df_apps.Reviews.describe()"
      ],
      "metadata": {
        "id": "X69ai1QXdTSO"
      },
      "execution_count": null,
      "outputs": []
    },
    {
      "cell_type": "code",
      "source": [
        "df_apps.Installs.describe()"
      ],
      "metadata": {
        "id": "Wijob_jydaWe"
      },
      "execution_count": null,
      "outputs": []
    },
    {
      "cell_type": "code",
      "source": [
        "df_apps.Price.describe()"
      ],
      "metadata": {
        "id": "DBxzj_JqdcPu"
      },
      "execution_count": null,
      "outputs": []
    },
    {
      "cell_type": "code",
      "source": [
        "df_apps.info()"
      ],
      "metadata": {
        "id": "jN_u0MJcdeEu"
      },
      "execution_count": null,
      "outputs": []
    },
    {
      "cell_type": "markdown",
      "source": [
        "Both of these show that we are dealing with a non-numeric data type. In this case, the type is \"object\"."
      ],
      "metadata": {
        "id": "JeCZA0o7dkAZ"
      }
    },
    {
      "cell_type": "markdown",
      "source": [
        "## Numeric Type Conversions for the Reviews, Installations & Price Data\n",
        "\n",
        "We can remove the comma (,) character - or any character for that matter - from a DataFrame using the string’s `.replace()` method. Here we’re saying: “replace the , with an empty string”. This completely removes all the commas in the Installs column. We can then convert our data to a number using `.to_numeric()`."
      ],
      "metadata": {
        "id": "o7bbut_Kdm0R"
      }
    },
    {
      "cell_type": "markdown",
      "source": [
        "### Converting the type of  Reviews column to number"
      ],
      "metadata": {
        "id": "Fyid3r12d6sc"
      }
    },
    {
      "cell_type": "code",
      "source": [
        "df_apps['Reviews'] = pd.to_numeric(df_apps['Reviews'])"
      ],
      "metadata": {
        "id": "oT5waWzTdgJR"
      },
      "execution_count": null,
      "outputs": []
    },
    {
      "cell_type": "markdown",
      "source": [
        "### Converting the type of Price column to number"
      ],
      "metadata": {
        "id": "kQcVMbiMd_n-"
      }
    },
    {
      "cell_type": "code",
      "source": [
        "df_apps['Price'] = pd.to_numeric(df_apps['Price'].str.replace('$',''))"
      ],
      "metadata": {
        "id": "KF0GMnY8d9yH"
      },
      "execution_count": null,
      "outputs": []
    },
    {
      "cell_type": "code",
      "source": [
        "df_apps['Price'] = pd.to_numeric(df_apps['Price'])"
      ],
      "metadata": {
        "id": "8jflpUlCeB32"
      },
      "execution_count": null,
      "outputs": []
    },
    {
      "cell_type": "code",
      "source": [
        "df_apps['Price']"
      ],
      "metadata": {
        "id": "CyxPdDyEeEqH"
      },
      "execution_count": null,
      "outputs": []
    },
    {
      "cell_type": "markdown",
      "source": [
        "### Converting the type of Installs column to number\n",
        "\n",
        "We are dealing with a non-numeric data type, the ordering is not helpful because the reason Python is not recognising our installs as numbers is because of the comma (,) characters."
      ],
      "metadata": {
        "id": "IrZwh3PyeIWe"
      }
    },
    {
      "cell_type": "code",
      "source": [
        "df_apps['Installs'] = pd.to_numeric(df_apps['Installs'].str.replace(',',''))"
      ],
      "metadata": {
        "id": "RbeicZizeGCW"
      },
      "execution_count": null,
      "outputs": []
    },
    {
      "cell_type": "markdown",
      "source": [
        "### Converting the type of Last Updated column to datetime"
      ],
      "metadata": {
        "id": "8SSmX4nceNQG"
      }
    },
    {
      "cell_type": "markdown",
      "source": [
        "To convert the Last Updated column to a DateTime object, all we need to do is call the **to_datetime()** function."
      ],
      "metadata": {
        "id": "hT_0w67FeQ3W"
      }
    },
    {
      "cell_type": "code",
      "source": [
        "df_apps['Last Updated']  = pd.to_datetime(df_apps['Last Updated'])"
      ],
      "metadata": {
        "id": "dARy5VFreLRG"
      },
      "execution_count": null,
      "outputs": []
    },
    {
      "cell_type": "code",
      "source": [
        "df_apps.head()"
      ],
      "metadata": {
        "id": "ru1KxFHEeU2H"
      },
      "execution_count": null,
      "outputs": []
    },
    {
      "cell_type": "code",
      "source": [
        "df_apps.info()"
      ],
      "metadata": {
        "id": "QxDy4lEReXU3"
      },
      "execution_count": null,
      "outputs": []
    },
    {
      "cell_type": "markdown",
      "source": [
        "## Data Cleaning: Removing NaN Values and Duplicates\n",
        "\n",
        "\n",
        "### Missing Values and Junk Data\n",
        "\n",
        "Before we can proceed with our analysis we should try and figure out if there are any missing or junk data in our dataframe. That way we can avoid problems later on. In this case, we're going to look for NaN (Not A Number) values in our dataframe. NAN values are blank cells or cells that contain strings instead of numbers. Use the `.isna()` method."
      ],
      "metadata": {
        "id": "jl2Z0TvHeei2"
      }
    },
    {
      "cell_type": "code",
      "source": [
        "df_apps.isna()"
      ],
      "metadata": {
        "id": "lilSh0Z9eZx2"
      },
      "execution_count": null,
      "outputs": []
    },
    {
      "cell_type": "code",
      "source": [
        "df_apps.isna().values.any()"
      ],
      "metadata": {
        "id": "P--fiwF4ejIn"
      },
      "execution_count": null,
      "outputs": []
    },
    {
      "cell_type": "code",
      "source": [
        "df_apps.duplicated().values.any()"
      ],
      "metadata": {
        "id": "ZjamMQrBelWX"
      },
      "execution_count": null,
      "outputs": []
    },
    {
      "cell_type": "markdown",
      "source": [
        "We can see the total number of duplicates by creating a subset and looking at the length of that subset"
      ],
      "metadata": {
        "id": "P0LnFeDCepMf"
      }
    },
    {
      "cell_type": "code",
      "source": [
        "duplicated_rows = df_apps[df_apps.duplicated()]\n",
        "len(duplicated_rows)"
      ],
      "metadata": {
        "id": "PE10kyWmenu3"
      },
      "execution_count": null,
      "outputs": []
    },
    {
      "cell_type": "code",
      "source": [
        "df_apps.info()"
      ],
      "metadata": {
        "id": "f8B7ozpuera2"
      },
      "execution_count": null,
      "outputs": []
    },
    {
      "cell_type": "code",
      "source": [
        "df_apps.nunique()"
      ],
      "metadata": {
        "id": "GZGiAYozetSW"
      },
      "execution_count": null,
      "outputs": []
    },
    {
      "cell_type": "markdown",
      "source": [
        "### Handling Null Values\n",
        "We can see that for each of the columns, there are a lot different unique values for some of them."
      ],
      "metadata": {
        "id": "0mc8KVaDexGm"
      }
    },
    {
      "cell_type": "code",
      "source": [
        "df_apps.isnull().values.any()"
      ],
      "metadata": {
        "id": "-4BYI_YaevUG"
      },
      "execution_count": null,
      "outputs": []
    },
    {
      "cell_type": "code",
      "source": [
        "df_apps.isnull().sum().sum()"
      ],
      "metadata": {
        "id": "4AGz1QnBe0oG"
      },
      "execution_count": null,
      "outputs": []
    },
    {
      "cell_type": "code",
      "source": [
        "df_apps.isnull().sum()"
      ],
      "metadata": {
        "id": "rweKV1x7e2bG"
      },
      "execution_count": null,
      "outputs": []
    },
    {
      "cell_type": "code",
      "source": [
        "sns.heatmap(df_apps.isnull(), cbar=False)\n",
        "plt.title('Null Values Heatmap')\n",
        "plt.show()"
      ],
      "metadata": {
        "id": "ZzKdnNLNe4nG"
      },
      "execution_count": null,
      "outputs": []
    },
    {
      "cell_type": "markdown",
      "source": [
        "As we can see from the table and above heatmap, we have highest null values in the Rating column which is about 1474 followed by Current Ver, Android Ver and Type."
      ],
      "metadata": {
        "id": "ATfssS5he8V2"
      }
    },
    {
      "cell_type": "markdown",
      "source": [
        "### Dropping Unused Columns and Removing NaN Values\n",
        "\n",
        "To find and remove the rows with the NaN values we can create a subset of the DataFrame based on where `.isna()` evaluates to True. We see that NaN values in ratings are associated with no reviews (and no installs). That makes sense."
      ],
      "metadata": {
        "id": "oPqqibR7e_Hm"
      }
    },
    {
      "cell_type": "markdown",
      "source": [
        "#### Remove the columns called Current Ver and Android Ver from the DataFrame. We will not use these columns.\n",
        "\n",
        "To remove the unwanted columns, we simply provide a list of the column names `['Last_Updated'], [‘Android_Ver'], ['Current Ver']` to the .drop() method. By setting axis=1 we are specifying that we want to drop certain columns."
      ],
      "metadata": {
        "id": "c8dme1sSfBC2"
      }
    },
    {
      "cell_type": "code",
      "source": [
        "df_apps.drop(['Android Ver'], axis=1, inplace = True)"
      ],
      "metadata": {
        "id": "P2s1sRCbe62m"
      },
      "execution_count": null,
      "outputs": []
    },
    {
      "cell_type": "code",
      "source": [
        "df_apps.drop(['Current Ver'], axis=1, inplace = True)"
      ],
      "metadata": {
        "id": "kBrRawsGfE52"
      },
      "execution_count": null,
      "outputs": []
    },
    {
      "cell_type": "code",
      "source": [
        "df_apps.head()"
      ],
      "metadata": {
        "id": "ee2y8mbwfGX2"
      },
      "execution_count": null,
      "outputs": []
    },
    {
      "cell_type": "code",
      "source": [
        "df_apps.tail()"
      ],
      "metadata": {
        "id": "LgRK4tsjfH2H"
      },
      "execution_count": null,
      "outputs": []
    },
    {
      "cell_type": "markdown",
      "source": [
        "We can drop the NaN values with `.dropna():`"
      ],
      "metadata": {
        "id": "Bwi7958_fMrf"
      }
    },
    {
      "cell_type": "code",
      "source": [
        "df_apps_clean = df_apps.dropna()\n",
        "df_apps_clean.shape"
      ],
      "metadata": {
        "id": "UB43yPnsfJyX"
      },
      "execution_count": null,
      "outputs": []
    },
    {
      "cell_type": "markdown",
      "source": [
        "This leaves us with 9,366 entries in our DataFrame. But there may be other problems with the data too:\n",
        "\n",
        "- `Are there any duplicates in data? `\n",
        "Check for duplicates using the `.duplicated()` function.\n",
        "\n",
        "Use `.drop_duplicates()` to remove any duplicates from `df_apps_clean`\n"
      ],
      "metadata": {
        "id": "qnjZPdBafQp2"
      }
    },
    {
      "cell_type": "markdown",
      "source": [
        "### Accessing Columns and Individual Cells in a Dataframe\n",
        "\n",
        "To access a particular column from a data frame we can use the square bracket notation;"
      ],
      "metadata": {
        "id": "l6JVcR2ofUTm"
      }
    },
    {
      "cell_type": "code",
      "source": [
        "df_apps_clean['Rating']"
      ],
      "metadata": {
        "id": "HVPBEk63fOxn"
      },
      "execution_count": null,
      "outputs": []
    },
    {
      "cell_type": "markdown",
      "source": [
        "To find the highest rating we can simply chain the **.max()** method."
      ],
      "metadata": {
        "id": "eZOaFPszfZwe"
      }
    },
    {
      "cell_type": "code",
      "source": [
        "df_apps_clean['Rating'].max()"
      ],
      "metadata": {
        "id": "2M6kXFGhfWz3"
      },
      "execution_count": null,
      "outputs": []
    },
    {
      "cell_type": "markdown",
      "source": [
        "**Highest and Lowest Rated Apps**"
      ],
      "metadata": {
        "id": "P644Z07Xfdv-"
      }
    },
    {
      "cell_type": "code",
      "source": [
        "print(df_apps_clean['Rating'].max())\n",
        "print(f\"Index for the max rated app: {df_apps_clean['Rating'].idxmax()}\")"
      ],
      "metadata": {
        "id": "-O0l4C8wfb5X"
      },
      "execution_count": null,
      "outputs": []
    },
    {
      "cell_type": "code",
      "source": [
        "print(df_apps_clean['Rating'].min())\n",
        "df_apps_clean['Rating'].loc[df_apps_clean['Rating'].idxmin()]"
      ],
      "metadata": {
        "id": "iJpml-ZBfgKH"
      },
      "execution_count": null,
      "outputs": []
    },
    {
      "cell_type": "markdown",
      "source": [
        "Let's do it for **Reviews** Column also;"
      ],
      "metadata": {
        "id": "Kl6Vp5ITflGW"
      }
    },
    {
      "cell_type": "code",
      "source": [
        "df_apps_clean['Reviews']"
      ],
      "metadata": {
        "id": "v9FpL0jOfjFn"
      },
      "execution_count": null,
      "outputs": []
    },
    {
      "cell_type": "code",
      "source": [
        "df_apps_clean['Reviews'].max()"
      ],
      "metadata": {
        "id": "KOF-FXxZfng2"
      },
      "execution_count": null,
      "outputs": []
    },
    {
      "cell_type": "markdown",
      "source": [
        "**The highest reviews are 78158306.**\n",
        "But which app earns this much on average? For this, we need to know the row number or index so that we can look up the name of the major. the **.idxmax()** method will give us index for the row with the largest value."
      ],
      "metadata": {
        "id": "43GHDdKlftEW"
      }
    },
    {
      "cell_type": "code",
      "source": [
        "print(df_apps_clean['Reviews'].max())\n",
        "print(f\"Index for the max reviewed app: {df_apps_clean['Reviews'].idxmax()}\")"
      ],
      "metadata": {
        "id": "VVhqkptdfqCG"
      },
      "execution_count": null,
      "outputs": []
    },
    {
      "cell_type": "code",
      "source": [
        "print(df_apps_clean['Reviews'].min())\n",
        "df_apps_clean['Reviews'].loc[df_apps_clean['Reviews'].idxmin()]"
      ],
      "metadata": {
        "id": "7a_mw_zvfwBG"
      },
      "execution_count": null,
      "outputs": []
    },
    {
      "cell_type": "code",
      "source": [
        "print(f\"Index for the minimum reviewed app: {df_apps_clean['Reviews'].idxmin()}\")"
      ],
      "metadata": {
        "id": "aKIdpzcngmmW"
      },
      "execution_count": null,
      "outputs": []
    },
    {
      "cell_type": "markdown",
      "source": [
        "### Finding and Removing Duplicates\n",
        "\n",
        "There are indeed duplicates in the data. We can show them using the `.duplicated()` method"
      ],
      "metadata": {
        "id": "IUUS8YdUgrVf"
      }
    },
    {
      "cell_type": "code",
      "source": [
        "duplicate_exists = df_apps_clean['App'].duplicated().any()\n",
        "duplicate_exists"
      ],
      "metadata": {
        "id": "fWa8yLDAgpBV"
      },
      "execution_count": null,
      "outputs": []
    },
    {
      "cell_type": "code",
      "source": [
        "df_apps_clean['App'].value_counts()"
      ],
      "metadata": {
        "id": "IfiZpUSGnERC"
      },
      "execution_count": null,
      "outputs": []
    },
    {
      "cell_type": "markdown",
      "source": [
        "#### As we can see from the above mentioned data, some of the apps are having multiple rows. Let's check out if there data is identical or not"
      ],
      "metadata": {
        "id": "77c1fA1tnIbj"
      }
    },
    {
      "cell_type": "code",
      "source": [
        "df_apps_clean[df_apps_clean['App']=='Candy Crush Saga']"
      ],
      "metadata": {
        "id": "Np_aAnL5nF-C"
      },
      "execution_count": null,
      "outputs": []
    },
    {
      "cell_type": "markdown",
      "source": [
        "#### As we can see from the above dataframe, Candy Crush Saga app is having identical rows with difference in number of reviews. It may have happened that for the same app, the data has been scraped in different points of time. So we have kept row of an app with maximum number of reviews, assuming it to be the latest one."
      ],
      "metadata": {
        "id": "y48oY9eenM7K"
      }
    },
    {
      "cell_type": "markdown",
      "source": [
        "<img src=\"https://humornama.com/wp-content/uploads/2022/01/Saaley-Mera-Hi-Maal-Chura-Kar-Meme-Template-on-Phir-Hera-Pheri-364x205.jpg\">"
      ],
      "metadata": {
        "id": "kEE2aEglnPRK"
      }
    },
    {
      "cell_type": "code",
      "source": [
        "duplicated_rows = df_apps_clean[df_apps_clean.duplicated()]\n",
        "print(duplicated_rows.shape)\n",
        "duplicated_rows.head()"
      ],
      "metadata": {
        "id": "d9Fuhoq7nKky"
      },
      "execution_count": null,
      "outputs": []
    },
    {
      "cell_type": "code",
      "source": [
        "df_apps_clean.drop_duplicates()"
      ],
      "metadata": {
        "id": "Rk6Y3oPenRwS"
      },
      "execution_count": null,
      "outputs": []
    },
    {
      "cell_type": "markdown",
      "source": [
        "There are indeed duplicates in the data. We can show them using the `.duplicated()` method, which brings up 476 rows."
      ],
      "metadata": {
        "id": "7_GMxwmynVax"
      }
    },
    {
      "cell_type": "markdown",
      "source": [
        "We can actually check for an individual app like ‘Instagram’ by looking up all the entries with that name in the App column."
      ],
      "metadata": {
        "id": "kCL1809VnXmR"
      }
    },
    {
      "cell_type": "code",
      "source": [
        "df_apps_clean[df_apps_clean.App=='Instagram']"
      ],
      "metadata": {
        "id": "XZd0NX4fnTnx"
      },
      "execution_count": null,
      "outputs": []
    },
    {
      "cell_type": "markdown",
      "source": [
        "So how do we get rid of duplicates? Can we simply call `.drop_duplicates()`?"
      ],
      "metadata": {
        "id": "tKgrslisncQx"
      }
    },
    {
      "cell_type": "code",
      "source": [
        "df_apps_clean = df_apps_clean.drop_duplicates()"
      ],
      "metadata": {
        "id": "ZK_lS22OnaKh"
      },
      "execution_count": null,
      "outputs": []
    },
    {
      "cell_type": "code",
      "source": [
        "df_apps_clean[df_apps_clean.App=='Instagram']"
      ],
      "metadata": {
        "id": "e4cNNjf1necC"
      },
      "execution_count": null,
      "outputs": []
    },
    {
      "cell_type": "markdown",
      "source": [
        "Not really. If we do this without specifying how to identify duplicates, we see that 3 copies of Instagram are retained because they have a different number of reviews. We need to provide the column names that should be used in the comparison to identify duplicates."
      ],
      "metadata": {
        "id": "3Ts7hQMBnhji"
      }
    },
    {
      "cell_type": "code",
      "source": [
        "# Need to specify the subset for identifying duplicates\n",
        "df_apps_clean = df_apps_clean.drop_duplicates(subset=['App', 'Type', 'Price'])\n",
        "\n",
        "df_apps_clean[df_apps_clean.App == 'Instagram']"
      ],
      "metadata": {
        "id": "C5VnAxF8nf1S"
      },
      "execution_count": null,
      "outputs": []
    },
    {
      "cell_type": "code",
      "source": [
        "df_apps_clean.shape"
      ],
      "metadata": {
        "id": "Oj1L6W-Snkdy"
      },
      "execution_count": null,
      "outputs": []
    },
    {
      "cell_type": "markdown",
      "source": [
        "This leaves us with 8,198 entries after removing duplicates. Woah! 💪"
      ],
      "metadata": {
        "id": "4RC9qMRfno_K"
      }
    },
    {
      "cell_type": "code",
      "source": [
        "# import jovian"
      ],
      "metadata": {
        "id": "WiM5t_JCx5zR"
      },
      "execution_count": null,
      "outputs": []
    },
    {
      "cell_type": "code",
      "source": [
        "# jovian.commit()"
      ],
      "metadata": {
        "id": "NxkDhngQx7yR"
      },
      "execution_count": null,
      "outputs": []
    },
    {
      "cell_type": "markdown",
      "source": [
        "## Preliminary Exploration: The Highest Ratings, Most Reviews, and Largest Size\n",
        "\n",
        "\n",
        "#### Some important quetions to be answered\n",
        "1. Which apps are the highest rated.\n",
        "2. What problem might you encounter if you rely exclusively on ratings alone to determine the quality of an app?\n",
        "3. What's the size in megabytes (MB) of the largest Android apps in the Google Play Store.\n",
        "4. Based on the data, do you think there could be a limit in place or can developers make apps as large as they please?\n",
        "5. Which apps have the highest number of reviews?\n",
        "6. Are there any paid apps among the top 50?"
      ],
      "metadata": {
        "id": "SIPZwRvJnrja"
      }
    },
    {
      "cell_type": "code",
      "source": [
        "df_apps_clean.sort_values('Rating', ascending=False).head()"
      ],
      "metadata": {
        "id": "U9f_L_6AnmRS"
      },
      "execution_count": null,
      "outputs": []
    },
    {
      "cell_type": "markdown",
      "source": [
        "**Only apps with very few reviews (and a low number on installs) have perfect 5 star ratings (most likely by friends and family).**"
      ],
      "metadata": {
        "id": "T71gEOAinvRG"
      }
    },
    {
      "cell_type": "code",
      "source": [
        "df_apps_clean.sort_values('Size', ascending=False).head()"
      ],
      "metadata": {
        "id": "ApcEOhEKnth-"
      },
      "execution_count": null,
      "outputs": []
    },
    {
      "cell_type": "markdown",
      "source": [
        "Here we can clearly see that there seems to be an upper bound of 100 MB for the size of an app. A quick google search would also have revealed that this limit is imposed by the Google Play Store itself. It’s interesting to see that a number of apps actually hit that limit exactly."
      ],
      "metadata": {
        "id": "c_jMXcm_n1Z_"
      }
    },
    {
      "cell_type": "code",
      "source": [
        "df_apps_clean.sort_values('Installs', ascending=False).head(50)"
      ],
      "metadata": {
        "id": "64RpOgS1nyYe"
      },
      "execution_count": null,
      "outputs": []
    },
    {
      "cell_type": "code",
      "source": [
        "df_apps_clean.sort_values('Installs', ascending=False).head(50)"
      ],
      "metadata": {
        "id": "cVhFiyx9n4F-"
      },
      "execution_count": null,
      "outputs": []
    },
    {
      "cell_type": "code",
      "source": [
        "highest_potential_apps = df_apps_clean.sort_values('Installs', ascending=False).head(50)"
      ],
      "metadata": {
        "id": "d8M0juyFn6ve"
      },
      "execution_count": null,
      "outputs": []
    },
    {
      "cell_type": "code",
      "source": [
        "highest_potential_apps"
      ],
      "metadata": {
        "id": "uJjFVL17n_3n"
      },
      "execution_count": null,
      "outputs": []
    },
    {
      "cell_type": "code",
      "source": [
        "highest_potential_apps[['App', 'Category', 'Installs']].head()"
      ],
      "metadata": {
        "id": "txN35B9VoBWX"
      },
      "execution_count": null,
      "outputs": []
    },
    {
      "cell_type": "code",
      "source": [
        "df_apps_clean['Installs'].min(),df_apps_clean['Installs'].max()"
      ],
      "metadata": {
        "id": "PW7-kMGloDJn"
      },
      "execution_count": null,
      "outputs": []
    },
    {
      "cell_type": "markdown",
      "source": [
        "So here we can see top 5 installed apps"
      ],
      "metadata": {
        "id": "eGXctEGqoJrf"
      }
    },
    {
      "cell_type": "code",
      "source": [
        "df_apps_clean.sort_values('Reviews', ascending=False).head(50)"
      ],
      "metadata": {
        "id": "8pTkFs0HoGu3"
      },
      "execution_count": null,
      "outputs": []
    },
    {
      "cell_type": "markdown",
      "source": [
        "If you look at the number of reviews, you can find the most popular apps on the Android App Store. These include the usual suspects: Facebook, WhatsApp, Instagram etc. What’s also notable is that the list of the top 50 most reviewed apps does not include a single paid app! 🤔"
      ],
      "metadata": {
        "id": "mEHIxor0oPQp"
      }
    },
    {
      "cell_type": "markdown",
      "source": [
        "**Questions that's to be answered**\n",
        "\n",
        "1. How many apps had over 1 billion installations?\n",
        "2. How many apps just had a single install?\n",
        "\n",
        "\n",
        "\n",
        "- Count the number of apps at each level of installations."
      ],
      "metadata": {
        "id": "qRq7z9VRoSVB"
      }
    },
    {
      "cell_type": "markdown",
      "source": [
        "### Grouping and Pivoting Data with Pandas\n",
        "\n"
      ],
      "metadata": {
        "id": "zW73s_2IoVBD"
      }
    },
    {
      "cell_type": "markdown",
      "source": [
        "If we take two of the columns, say Installs and the App name, we can count the number of entries per level of installations with `.groupby()` and `.count()`."
      ],
      "metadata": {
        "id": "5qh-PhB_oeMC"
      }
    },
    {
      "cell_type": "code",
      "source": [
        "df_apps_clean = df_apps_clean.loc[df_apps_clean.groupby(['App'])['Installs'].idxmax()]"
      ],
      "metadata": {
        "id": "TTj0xgcgoNIh"
      },
      "execution_count": null,
      "outputs": []
    },
    {
      "cell_type": "code",
      "source": [
        "df_apps_clean[['App', 'Installs']].groupby('Installs').count()"
      ],
      "metadata": {
        "id": "SR_KfUSlogqN"
      },
      "execution_count": null,
      "outputs": []
    },
    {
      "cell_type": "markdown",
      "source": [
        "Let's examine the above Installs column. We can see that there are some apps with only 3 installs, whereas some of them have such massive installations that I am not even able to count the zeros."
      ],
      "metadata": {
        "id": "qekqw84uolVD"
      }
    },
    {
      "cell_type": "code",
      "source": [
        "df_apps_clean = df_apps_clean.loc[df_apps_clean.groupby(['App'])['Reviews'].idxmax()]"
      ],
      "metadata": {
        "id": "pU0E-FtNojH7"
      },
      "execution_count": null,
      "outputs": []
    },
    {
      "cell_type": "code",
      "source": [
        "df_apps_clean[['App', 'Reviews']].groupby('Reviews').count()"
      ],
      "metadata": {
        "id": "BEqpSqaVooYE"
      },
      "execution_count": null,
      "outputs": []
    },
    {
      "cell_type": "code",
      "source": [
        "df_apps_clean = df_apps_clean.loc[df_apps_clean.groupby(['App'])['Price'].idxmax()]"
      ],
      "metadata": {
        "id": "5BaXrMX7opyU"
      },
      "execution_count": null,
      "outputs": []
    },
    {
      "cell_type": "code",
      "source": [
        "df_apps_clean[['App', 'Price']].groupby('Price').count()"
      ],
      "metadata": {
        "id": "9jVNAkUCosDk"
      },
      "execution_count": null,
      "outputs": []
    },
    {
      "cell_type": "code",
      "source": [
        "# import jovian"
      ],
      "metadata": {
        "id": "D4Wk-lmQyIWj"
      },
      "execution_count": null,
      "outputs": []
    },
    {
      "cell_type": "code",
      "source": [
        "# jovian.commit()"
      ],
      "metadata": {
        "id": "xHMfEpstyKSh"
      },
      "execution_count": null,
      "outputs": []
    },
    {
      "cell_type": "markdown",
      "source": [
        "# Exploratory Analysis and Visualization\n",
        "\n",
        "Data visualization is the graphic representation of data. It involves producing images that communicate relationships among the represented data to viewers. Visualizing data is an essential part of data analysis and machine learning. We'll use Python libraries Matplotlib and Seaborn to learn and apply some popular data visualization techniques."
      ],
      "metadata": {
        "id": "nPSlM-P4owRs"
      }
    },
    {
      "cell_type": "markdown",
      "source": [
        "> - **Compute the mean, sum, range and other interesting statistics for numeric columns**\n",
        "> - **Explore distributions of numeric columns using histograms etc.**\n",
        "> - **Explore relationship between columns using scatter plots, bar charts etc.**\n",
        "> - **Make a note of interesting insights from the exploratory analysis**"
      ],
      "metadata": {
        "id": "JQIh-TdToyYs"
      }
    },
    {
      "cell_type": "markdown",
      "source": [
        "### Computing the mean, sum, range and other interesting statistics for numeric columns"
      ],
      "metadata": {
        "id": "hwb1uEh8o0u1"
      }
    },
    {
      "cell_type": "markdown",
      "source": [
        "**For Reviews column**"
      ],
      "metadata": {
        "id": "zTzkHOdLo2vS"
      }
    },
    {
      "cell_type": "code",
      "source": [
        "# Calculating mean for Reviews column\n",
        "df_apps_clean['Reviews'].mean()"
      ],
      "metadata": {
        "id": "w0hcft8SoteF"
      },
      "execution_count": null,
      "outputs": []
    },
    {
      "cell_type": "code",
      "source": [
        "# Calculating sum for Reviews column\n",
        "df_apps_clean['Reviews'].sum()"
      ],
      "metadata": {
        "id": "-BPVfKoqo4qT"
      },
      "execution_count": null,
      "outputs": []
    },
    {
      "cell_type": "code",
      "source": [
        "# Calculating range for Reviews column\n",
        "df_apps_clean['Reviews'].min(),df_apps_clean['Reviews'].max()"
      ],
      "metadata": {
        "id": "r3w7Pv8go64j"
      },
      "execution_count": null,
      "outputs": []
    },
    {
      "cell_type": "markdown",
      "source": [
        "**For Installs column**"
      ],
      "metadata": {
        "id": "4uWKNrKeo-76"
      }
    },
    {
      "cell_type": "code",
      "source": [
        "# Calculating mean for installations column\n",
        "df_apps_clean['Installs'].mean()"
      ],
      "metadata": {
        "id": "JGfAgNYEo8ij"
      },
      "execution_count": null,
      "outputs": []
    },
    {
      "cell_type": "code",
      "source": [
        "# Calculating range for installations column\n",
        "df_apps_clean['Installs'].min(),df_apps_clean['Installs'].max()"
      ],
      "metadata": {
        "id": "6x2bvJ62pB0S"
      },
      "execution_count": null,
      "outputs": []
    },
    {
      "cell_type": "markdown",
      "source": [
        "**For Price column**"
      ],
      "metadata": {
        "id": "MswLhK8spH_K"
      }
    },
    {
      "cell_type": "code",
      "source": [
        "# Calculating mean for Price column\n",
        "df_apps_clean['Price'].mean()"
      ],
      "metadata": {
        "id": "W9AleYM1pGry"
      },
      "execution_count": null,
      "outputs": []
    },
    {
      "cell_type": "code",
      "source": [
        "# Calculating sum for price column\n",
        "df_apps_clean['Price'].sum()"
      ],
      "metadata": {
        "id": "SSxPssfnpRCy"
      },
      "execution_count": null,
      "outputs": []
    },
    {
      "cell_type": "code",
      "source": [
        "# Calculating range for Price column\n",
        "df_apps_clean['Price'].min(),df_apps_clean['Price'].max()"
      ],
      "metadata": {
        "id": "vIQKElHhpTYi"
      },
      "execution_count": null,
      "outputs": []
    },
    {
      "cell_type": "markdown",
      "source": [
        "We're now ready to visualize our data. For that we'll use another popular data visualization tool that you can use alongside Matplotlib: Seaborn. Seaborn is built on top of Matplotlib, and it makes creating certain visualizations very convenient."
      ],
      "metadata": {
        "id": "sO1RZ08rpWYj"
      }
    },
    {
      "cell_type": "markdown",
      "source": [
        "Let's begin by importing`matplotlib.pyplot` and `seaborn`."
      ],
      "metadata": {
        "id": "9LYQwPcipbhc"
      }
    },
    {
      "cell_type": "markdown",
      "source": [
        "The first step is adding Seaborn to our notebook. By convention we'll use the name sns."
      ],
      "metadata": {
        "id": "HBUfPor-pdnj"
      }
    },
    {
      "cell_type": "code",
      "source": [
        "import seaborn as sns\n",
        "import matplotlib\n",
        "import matplotlib.pyplot as plt\n",
        "%matplotlib inline\n",
        "\n",
        "sns.set_style('darkgrid')\n",
        "matplotlib.rcParams['font.size'] = 14\n",
        "matplotlib.rcParams['figure.figsize'] = (9, 5)\n",
        "matplotlib.rcParams['figure.facecolor'] = '#00000000'"
      ],
      "metadata": {
        "id": "L37FojHfpU-j"
      },
      "execution_count": null,
      "outputs": []
    },
    {
      "cell_type": "markdown",
      "source": [
        " **NOTE**: The special command `%matplotlib inline` will ensure that our plots are shown and embedded within the Jupyter notebook itself."
      ],
      "metadata": {
        "id": "68JPtUotpjM6"
      }
    },
    {
      "cell_type": "markdown",
      "source": [
        "Now lets explore:\n",
        "\n",
        "- How to visualise data and create charts with Matplotlib\n",
        "\n",
        "- How to style and customise a line chart to your liking\n"
      ],
      "metadata": {
        "id": "Gyfvq02oplkK"
      }
    },
    {
      "cell_type": "markdown",
      "source": [
        "### Histogram for Content Rating\n",
        "\n",
        "All Android apps have a content rating like “Everyone” or “Teen” or “Mature 17+”. Let’s take a look at the distribution of the content ratings in our dataset and see how to visualise it with plotly - a popular data visualisation library that you can use alongside or instead of Matplotlib.\n",
        "\n",
        "First, we’ll count the number of occurrences of each rating with"
      ],
      "metadata": {
        "id": "9MfX0mGhpqty"
      }
    },
    {
      "cell_type": "code",
      "source": [
        "ratings = df_apps_clean[\"Content Rating\"].value_counts()\n",
        "ratings"
      ],
      "metadata": {
        "id": "creO4od-phRi"
      },
      "execution_count": null,
      "outputs": []
    },
    {
      "cell_type": "code",
      "source": [
        "df_ratings = df_apps_clean[\"Content Rating\"]"
      ],
      "metadata": {
        "id": "Dep4d4SHpvaS"
      },
      "execution_count": null,
      "outputs": []
    },
    {
      "cell_type": "code",
      "source": [
        "# Set the style\n",
        "sns.set(style=\"whitegrid\")\n",
        "plt.figure(figsize=(10, 7))\n",
        "\n",
        "# Create the histogram plot\n",
        "ax = sns.histplot(data=df_ratings, bins=12, color='skyblue', edgecolor='black')\n",
        "\n",
        "# Adding title and labels\n",
        "plt.title(\"Distribution of Content Ratings\", fontsize=16)\n",
        "plt.xlabel(\"Content Rating\", fontsize=14)\n",
        "plt.ylabel(\"Count of Applications\", fontsize=14)\n",
        "\n",
        "# Adding grid lines for better readability\n",
        "ax.grid(axis='y', linestyle='--', alpha=0.7)\n",
        "\n",
        "# Adding a subtle gray background\n",
        "ax.set_facecolor('#F2F2F2')\n",
        "\n",
        "# Adding data labels on top of the bars\n",
        "for bar in ax.patches:\n",
        "    height = bar.get_height()\n",
        "    ax.annotate('{}'.format(height),\n",
        "                xy=(bar.get_x() + bar.get_width() / 2, height),\n",
        "                xytext=(0, 3),  # 3 points vertical offset\n",
        "                textcoords=\"offset points\",\n",
        "                ha='center', va='bottom', fontsize=12, color='black')\n",
        "\n",
        "# Adjusting x-axis ticks for better readability\n",
        "plt.xticks(rotation=45, ha='right', fontsize=12)\n",
        "\n",
        "# Enhancing y-axis ticks with commas for better readability\n",
        "ax.get_yaxis().set_major_formatter(plt.FuncFormatter(lambda x, loc: \"{:,}\".format(int(x))))\n",
        "\n",
        "\n",
        "# Removing the right and top spines\n",
        "ax.spines['right'].set_visible(False)\n",
        "ax.spines['top'].set_visible(False)\n",
        "\n",
        "plt.xticks(rotation=80, ha='right', fontsize=12)\n",
        "plt.yticks(fontsize=12)\n",
        "\n",
        "plt.tight_layout()\n",
        "plt.show()"
      ],
      "metadata": {
        "id": "bA1eijl-pyPy"
      },
      "execution_count": null,
      "outputs": []
    },
    {
      "cell_type": "markdown",
      "source": [
        "**Content Rating for Everyone has reported the highest number of applications out of 8196, where Teen content, Mature 17+ Content, Everyone 10+, Adults only 18+ and Unrated follows the list.**"
      ],
      "metadata": {
        "id": "Gv021c6cp3Rs"
      }
    },
    {
      "cell_type": "markdown",
      "source": [
        "### Pie Chart for Content Rating"
      ],
      "metadata": {
        "id": "i1gMly7rp5Mq"
      }
    },
    {
      "cell_type": "code",
      "source": [
        "# Data\n",
        "counts = ratings.values\n",
        "names = ratings.index\n",
        "\n",
        "# Colors for the pie chart\n",
        "colors = ['#66b3ff', '#99ff99', '#ffcc99', '#c2c2f0', '#ffb3e6', '#ff6666']\n",
        "\n",
        "# Adjusting font size and figure size\n",
        "plt.rcParams['font.size'] = 14\n",
        "plt.figure(figsize=(10, 10))\n",
        "\n",
        "# Creating the pie chart\n",
        "plt.pie(counts, labels=names, colors=colors, autopct='%1.1f%%', startangle=140, shadow=True, explode=(0.05, 0, 0, 0, 0, 0.2))\n",
        "\n",
        "# Adding a title\n",
        "plt.title('Percentage of Content Ratings', fontsize=18, pad=20)\n",
        "\n",
        "# Removing the legend and adding legend labels\n",
        "plt.legend(labels=names, loc='upper left', bbox_to_anchor=(0.85, 1))\n",
        "\n",
        "# Equal aspect ratio ensures that the pie is drawn as a circle.\n",
        "plt.axis('equal')\n",
        "\n",
        "# Display the pie chart\n",
        "plt.show()"
      ],
      "metadata": {
        "id": "m7hI9VKdp0Wy"
      },
      "execution_count": null,
      "outputs": []
    },
    {
      "cell_type": "markdown",
      "source": [
        "From the above chart we can clearly see that Content Rating %\n",
        "\n",
        "- `Everyone`           6618   (80.75%)\n",
        "- `Teen`                912   (11.13%)\n",
        "- `Mature 17+`          357   (4.36%)\n",
        "- `Everyone 10+`        305   (3.72%)\n",
        "- `Adults only 18+`       3   (0.04%)\n",
        "- `Unrated`               1   (0.01%)"
      ],
      "metadata": {
        "id": "QkbuCr0Lp-Pq"
      }
    },
    {
      "cell_type": "markdown",
      "source": [
        "### Average rating"
      ],
      "metadata": {
        "id": "wHQVrKCWqAgC"
      }
    },
    {
      "cell_type": "code",
      "source": [
        "df_genres_ratings = df_apps_clean.groupby(['Genres'])[['Rating']].mean()"
      ],
      "metadata": {
        "id": "UetdHL-ip7Qy"
      },
      "execution_count": null,
      "outputs": []
    },
    {
      "cell_type": "code",
      "source": [
        "top_genres = df_apps_clean.Genres.value_counts().reset_index().rename(columns={'Genres':'Count','index':'Genres'})"
      ],
      "metadata": {
        "id": "mTA_4d2UqCk2"
      },
      "execution_count": null,
      "outputs": []
    },
    {
      "cell_type": "code",
      "source": [
        "genres_installs = df_apps_clean.groupby(['Genres'])[['Installs']].sum()"
      ],
      "metadata": {
        "id": "_BZS1q62qD3T"
      },
      "execution_count": null,
      "outputs": []
    },
    {
      "cell_type": "code",
      "source": [
        "top_genres_installs = pd.merge(top_genres, genres_installs, on='Genres')"
      ],
      "metadata": {
        "id": "HMmOj2obqFxi"
      },
      "execution_count": null,
      "outputs": []
    },
    {
      "cell_type": "code",
      "source": [
        "genres_installs_ratings = pd.merge(top_genres_installs, df_genres_ratings, on='Genres')"
      ],
      "metadata": {
        "id": "E4bFXNxFqHeT"
      },
      "execution_count": null,
      "outputs": []
    },
    {
      "cell_type": "code",
      "source": [
        "genres_installs_ratings['Rating'].describe()"
      ],
      "metadata": {
        "id": "ZN33YE0DqJgz"
      },
      "execution_count": null,
      "outputs": []
    },
    {
      "cell_type": "code",
      "source": [
        "# Set style\n",
        "sns.set(style=\"whitegrid\")\n",
        "\n",
        "# Create a figure with a larger size\n",
        "plt.figure(figsize=(14, 7))\n",
        "\n",
        "# Create the KDE plot\n",
        "g = sns.kdeplot(data=genres_installs_ratings, x=\"Rating\", color=\"green\", shade=True)\n",
        "\n",
        "# Customize the labels and title\n",
        "g.set_xlabel(\"Rating(out of 5)\", fontsize=14)\n",
        "g.set_ylabel(\"Frequency of Apps\", fontsize=14)\n",
        "plt.title('Distribution of Ratings', size=20)\n",
        "\n",
        "# Customize the tick parameters\n",
        "plt.xticks(fontsize=12)\n",
        "plt.yticks(fontsize=12)\n",
        "\n",
        "# Add a grid for better readability\n",
        "plt.grid(alpha=0.5)\n",
        "\n",
        "# Adding a subtle background color\n",
        "plt.gca().set_facecolor('#F2F2F2')\n",
        "\n",
        "# Removing the right and top spines\n",
        "plt.gca().spines['right'].set_visible(False)\n",
        "plt.gca().spines['top'].set_visible(False)\n",
        "\n",
        "# Display the plot\n",
        "plt.show()"
      ],
      "metadata": {
        "id": "AE2m88CTqLrS"
      },
      "execution_count": null,
      "outputs": []
    },
    {
      "cell_type": "markdown",
      "source": [
        "**Above Distribution of Rating cleary show that the average rating is 4.248768**"
      ],
      "metadata": {
        "id": "-_K0jU_jqVuT"
      }
    },
    {
      "cell_type": "markdown",
      "source": [
        "### Histogram for Size Column"
      ],
      "metadata": {
        "id": "j_Up87TuqYjL"
      }
    },
    {
      "cell_type": "code",
      "source": [
        "# Converting KB to MB\n",
        "df_apps_clean['Size'] = df_apps_clean['Size'].apply(lambda x: str(x).replace('Varies with device', 'NaN') if 'Varies with device' in str(x) else x)\n",
        "\n",
        "df_apps_clean['Size'] = df_apps_clean['Size'].apply(lambda x: str(x).replace('M', '') if 'M' in str(x) else x)\n",
        "df_apps_clean['Size'] = df_apps_clean['Size'].apply(lambda x: str(x).replace(',', '') if 'M' in str(x) else x)\n",
        "df_apps_clean['Size'] = df_apps_clean['Size'].apply(lambda x: float(str(x).replace('k', '')) / 1000 if 'k' in str(x) else x)\n",
        "df_apps_clean['Size'] = df_apps_clean['Size'].apply(lambda x: float(x))"
      ],
      "metadata": {
        "id": "_sE-QlHkqQkj"
      },
      "execution_count": null,
      "outputs": []
    },
    {
      "cell_type": "code",
      "source": [
        "# to remove null values from size column\n",
        "df_apps_clean.loc[df_apps_clean['Size'].isnull(),'Size']=0"
      ],
      "metadata": {
        "id": "9UStR5r5qazE"
      },
      "execution_count": null,
      "outputs": []
    },
    {
      "cell_type": "code",
      "source": [
        "# plt.figure(figsize=(14,7))\n",
        "# plt.xlabel(\"Size\")\n",
        "# plt.ylabel(\"Count\")\n",
        "# plt.title(\"Distribution of Size\")\n",
        "# plt.hist(df_apps_clean['Size']);\n",
        "# plt.show()"
      ],
      "metadata": {
        "id": "cUDIeARHqdKJ"
      },
      "execution_count": null,
      "outputs": []
    },
    {
      "cell_type": "code",
      "source": [
        "# Set style\n",
        "sns.set(style=\"whitegrid\")\n",
        "\n",
        "# Create a figure with a larger size\n",
        "plt.figure(figsize=(14, 7))\n",
        "\n",
        "# Create the histogram\n",
        "plt.hist(df_apps_clean['Size'], bins=30, color='#86bf91', alpha=0.7)\n",
        "\n",
        "# Customize labels and title\n",
        "plt.xlabel(\"Size\", fontsize=14)\n",
        "plt.ylabel(\"Count of Applications\", fontsize=14)\n",
        "plt.title(\"Distribution of App Sizes\", fontsize=16)\n",
        "\n",
        "# Customize tick parameters\n",
        "plt.xticks(fontsize=12)\n",
        "plt.yticks(fontsize=12)\n",
        "\n",
        "# Add a grid for better readability\n",
        "plt.grid(axis='y', alpha=0.7)\n",
        "\n",
        "# Adding a subtle background color\n",
        "plt.gca().set_facecolor('#F2F2F2')\n",
        "\n",
        "# Removing the right and top spines\n",
        "plt.gca().spines['right'].set_visible(False)\n",
        "plt.gca().spines['top'].set_visible(False)\n",
        "\n",
        "# Display the plot\n",
        "plt.show()"
      ],
      "metadata": {
        "id": "_vcQZa_Zqf2J"
      },
      "execution_count": null,
      "outputs": []
    },
    {
      "cell_type": "markdown",
      "source": [
        "***From the above histogram, it can be concluded that maximum number of applications present in the dataset are of small size.***\n",
        "\n",
        "Here we can clearly see that there seems to be an upper bound of 100 MB for the size of an app. It’s interesting to see that a number of apps actually hit that limit exactly."
      ],
      "metadata": {
        "id": "POjLyhuXqjG5"
      }
    },
    {
      "cell_type": "markdown",
      "source": [
        "### Distribution of Installs column"
      ],
      "metadata": {
        "id": "l4HR9nfCqlmo"
      }
    },
    {
      "cell_type": "code",
      "source": [
        "df_apps_clean.Installs.describe()"
      ],
      "metadata": {
        "id": "KSuQaQFgqhI5"
      },
      "execution_count": null,
      "outputs": []
    },
    {
      "cell_type": "code",
      "source": [
        "df_installs = df_apps_clean[\"Installs\"]"
      ],
      "metadata": {
        "id": "WMTROOJdqoDZ"
      },
      "execution_count": null,
      "outputs": []
    },
    {
      "cell_type": "code",
      "source": [
        "df_apps_clean['Installs'].min(),df_apps_clean['Installs'].max()"
      ],
      "metadata": {
        "id": "PstSpAezqqUJ"
      },
      "execution_count": null,
      "outputs": []
    },
    {
      "cell_type": "markdown",
      "source": [
        "<img src=\"https://indianmemetemplates.com/wp-content/uploads/maza-nahi-aa-raha-hai-800x600.jpg?crop=1\">"
      ],
      "metadata": {
        "id": "fbp2G895qtI6"
      }
    },
    {
      "cell_type": "markdown",
      "source": [
        "#### Convering Installs column into log_installs\n",
        "\n",
        "***As we can notice,there is a high variance in the number of installs. To remove this we are adding a new column to dataframe, which is the log of number of installs***"
      ],
      "metadata": {
        "id": "lzeeP7b2qvgR"
      }
    },
    {
      "cell_type": "code",
      "source": [
        "df_apps_clean['log_installs'] = np.log10(df_apps_clean['Installs'])"
      ],
      "metadata": {
        "id": "M0Qw_R3Tqrxy"
      },
      "execution_count": null,
      "outputs": []
    },
    {
      "cell_type": "code",
      "source": [
        "df_apps_clean.loc[df_apps_clean['log_installs']==df_apps_clean['log_installs'].min(),'log_installs']=0"
      ],
      "metadata": {
        "id": "9A-Euf9GqzZi"
      },
      "execution_count": null,
      "outputs": []
    },
    {
      "cell_type": "code",
      "source": [
        "# Create a figure with a larger size\n",
        "plt.figure(figsize=(18, 7))\n",
        "\n",
        "\n",
        "# Customize labels and title\n",
        "plt.xlabel(\"Log of Installs\", fontsize=14)\n",
        "plt.ylabel(\"Number of Applications\", fontsize=14)\n",
        "plt.title(\"Distribution of Logrithm of Installs(base10)\", fontsize=16)\n",
        "\n",
        "plt.hist(df_apps_clean['log_installs']);\n",
        "\n",
        "# Customize tick parameters\n",
        "plt.xticks(fontsize=12)\n",
        "plt.yticks(fontsize=12)\n",
        "\n",
        "# Add a grid for better readability\n",
        "plt.grid(axis='y', alpha=0.7)\n",
        "\n",
        "# Adding a subtle background color\n",
        "plt.gca().set_facecolor('#F2F2F2')"
      ],
      "metadata": {
        "id": "lAwHbAkvq1ES"
      },
      "execution_count": null,
      "outputs": []
    },
    {
      "cell_type": "markdown",
      "source": [
        "***Distribution of Installs shows that that size may impact the number of installations. Bulky applications are less installed by the user.***"
      ],
      "metadata": {
        "id": "OGJ6ptAbq5FL"
      }
    },
    {
      "cell_type": "code",
      "source": [
        "df_category = df_apps_clean[\"Category\"]"
      ],
      "metadata": {
        "id": "UDqhVnTeq3KC"
      },
      "execution_count": null,
      "outputs": []
    },
    {
      "cell_type": "code",
      "source": [
        "# plt.figure(figsize=(18, 7))\n",
        "# plt.xticks(rotation=90, fontsize=12)\n",
        "\n",
        "# # Create histogram\n",
        "# plt.hist(df_category, bins=33, edgecolor='black')\n",
        "\n",
        "# # Add labels and title\n",
        "# plt.xlabel(\"Category\")\n",
        "# plt.ylabel(\"Number of application\")\n",
        "# plt.title(\"Top Categories\")\n",
        "\n",
        "# # Display the histogram\n",
        "# plt.show()"
      ],
      "metadata": {
        "id": "yYmOkxtgq7Pj"
      },
      "execution_count": null,
      "outputs": []
    },
    {
      "cell_type": "code",
      "source": [
        "# Create a figure with a larger size\n",
        "plt.figure(figsize=(18, 7))\n",
        "\n",
        "# Create the histogram\n",
        "plt.hist(df_category, bins=33, edgecolor='black', color='#86bf91', alpha=0.7)\n",
        "\n",
        "# Customize x-axis labels rotation and fontsize\n",
        "plt.xticks(rotation=45, ha='right', fontsize=12)\n",
        "\n",
        "# Customize labels and title\n",
        "plt.xlabel(\"Category of Applicaton\", fontsize=14)\n",
        "plt.ylabel(\"Number of Applications\", fontsize=14)\n",
        "plt.title(\"Distribution of Top Categories\", fontsize=16)\n",
        "\n",
        "# Customize tick parameters\n",
        "plt.xticks(fontsize=12)\n",
        "plt.yticks(fontsize=12)\n",
        "\n",
        "# Add a grid for better readability\n",
        "plt.grid(axis='y', alpha=0.7)\n",
        "\n",
        "# Adding a subtle background color\n",
        "plt.gca().set_facecolor('#F2F2F2')\n",
        "\n",
        "# Removing the right and top spines\n",
        "plt.gca().spines['right'].set_visible(False)\n",
        "plt.gca().spines['top'].set_visible(False)\n",
        "\n",
        "# Display the plot\n",
        "plt.tight_layout()\n",
        "plt.show()"
      ],
      "metadata": {
        "id": "dGR5n8yPq81i"
      },
      "execution_count": null,
      "outputs": []
    },
    {
      "cell_type": "markdown",
      "source": [
        "#### Distribution of App Prices"
      ],
      "metadata": {
        "id": "ViA1gKR9rBAi"
      }
    },
    {
      "cell_type": "code",
      "source": [
        "df_price = df_apps_clean[\"Price\"]\n",
        "\n",
        "plt.figure(figsize=(14,7))\n",
        "\n",
        "# Create the KDE plot\n",
        "g = sns.kdeplot(data=df_price, color=\"purple\", shade=True)\n",
        "\n",
        "# Customize labels and title\n",
        "g.set_xlabel(\"Price ($)\", fontsize=14)\n",
        "g.set_ylabel(\"Applications\", fontsize=14)\n",
        "plt.title('Distribution of App Prices', size=20)\n",
        "\n",
        "# Customize tick parameters\n",
        "plt.xticks(fontsize=12)\n",
        "plt.yticks(fontsize=12)\n",
        "\n",
        "# Add a grid for better readability\n",
        "plt.grid(axis='y', alpha=0.7)\n",
        "\n",
        "# Adding a subtle background color\n",
        "plt.gca().set_facecolor('#F2F2F2')\n",
        "\n",
        "# Display the plot\n",
        "plt.show()"
      ],
      "metadata": {
        "id": "wv2I3c3Pq-pj"
      },
      "execution_count": null,
      "outputs": []
    },
    {
      "cell_type": "markdown",
      "source": [
        "From the above distribution graph, we can get a fair idea that most of the apps fall under the category of free, with some apps also falling under the paid category."
      ],
      "metadata": {
        "id": "iw_qpMsvrF5i"
      }
    },
    {
      "cell_type": "markdown",
      "source": [
        "## Seaborn Data Visualisation\n",
        "***Scatter Plots of different columns using Seaborn***\n",
        "\n",
        "Let's get our hands dirty."
      ],
      "metadata": {
        "id": "DuKHmiydrH20"
      }
    },
    {
      "cell_type": "markdown",
      "source": [
        "#### Scatter Plot for Category vs. Size"
      ],
      "metadata": {
        "id": "MZOPq5TarKoN"
      }
    },
    {
      "cell_type": "code",
      "source": [
        "# Set style\n",
        "sns.set(style=\"whitegrid\")\n",
        "\n",
        "# Create a figure with a larger size\n",
        "plt.figure(figsize=(12, 8))\n",
        "\n",
        "# Create the scatter plot\n",
        "sns.scatterplot(data=df_apps_clean, x='Category', y='Size', palette='Set2', hue=\"Type\")\n",
        "\n",
        "# Customize labels and title\n",
        "plt.xlabel(\"Category\", fontsize=14)\n",
        "plt.ylabel(\"Size of Application\", fontsize=14)\n",
        "plt.title(\"Scatter Plot of Category vs Size\", fontsize=16)\n",
        "\n",
        "# Customize tick parameters\n",
        "plt.xticks(rotation=45, ha='right', fontsize=12)\n",
        "plt.yticks(fontsize=12)\n",
        "\n",
        "# Adding a legend\n",
        "plt.legend(fontsize=12)\n",
        "\n",
        "# Adding a subtle background color\n",
        "plt.gca().set_facecolor('#F2F2F2')\n",
        "\n",
        "# Removing the right and top spines\n",
        "plt.gca().spines['right'].set_visible(False)\n",
        "plt.gca().spines['top'].set_visible(False)\n",
        "\n",
        "# Display the plot\n",
        "plt.tight_layout()\n",
        "plt.show()"
      ],
      "metadata": {
        "id": "JAeeRgtIrDyy"
      },
      "execution_count": null,
      "outputs": []
    },
    {
      "cell_type": "markdown",
      "source": [
        "#### Scatter Plot for Size vs. Price"
      ],
      "metadata": {
        "id": "-WXWD_MYrQQ-"
      }
    },
    {
      "cell_type": "code",
      "source": [
        "# Set style\n",
        "sns.set(style=\"whitegrid\")\n",
        "\n",
        "# Create a figure with a larger size\n",
        "plt.figure(figsize=(12, 8))\n",
        "\n",
        "# Create the scatter plot\n",
        "sns.scatterplot(data=df_apps_clean, x='Size', y='Price', palette='Set2', hue=\"Type\")\n",
        "\n",
        "# Customize labels and title\n",
        "plt.xlabel(\"Size of Application(MBs)\", fontsize=14)\n",
        "plt.ylabel(\"Price of Application\", fontsize=14)\n",
        "plt.title(\"Scatter Plot of Size of Application vs Price\", fontsize=16)\n",
        "\n",
        "# Customize tick parameters\n",
        "plt.xticks(rotation=45, ha='right', fontsize=12)\n",
        "plt.yticks(fontsize=12)\n",
        "\n",
        "# Adding a legend\n",
        "plt.legend(fontsize=12)\n",
        "\n",
        "# Adding a subtle background color\n",
        "plt.gca().set_facecolor('#F2F2F2')\n",
        "\n",
        "# Removing the right and top spines\n",
        "plt.gca().spines['right'].set_visible(False)\n",
        "plt.gca().spines['top'].set_visible(False)\n",
        "\n",
        "# Display the plot\n",
        "plt.tight_layout()\n",
        "plt.show()"
      ],
      "metadata": {
        "id": "tN12TwulrMwl"
      },
      "execution_count": null,
      "outputs": []
    },
    {
      "cell_type": "markdown",
      "source": [
        "From the above scatter plot we can get an fair idea how size can affect price, Here we can see that high paid applications ranging between (0-40) MBs.\n",
        "\n",
        "Bulky application can affect our paid application."
      ],
      "metadata": {
        "id": "uzNMn3PBrVPf"
      }
    },
    {
      "cell_type": "markdown",
      "source": [
        "#### Scatter Plot for Size vs. Number of Installs"
      ],
      "metadata": {
        "id": "caE5RxFprkz6"
      }
    },
    {
      "cell_type": "code",
      "source": [
        "# Set style\n",
        "sns.set(style=\"whitegrid\")\n",
        "\n",
        "# Create a figure with a larger size\n",
        "plt.figure(figsize=(12, 8))\n",
        "\n",
        "# Create the scatter plot\n",
        "sns.scatterplot(data=df_apps_clean, x='Size', y='Installs', palette='Set2', hue=\"Type\")\n",
        "\n",
        "# Customize labels and title\n",
        "plt.xlabel(\"Size of Application\", fontsize=14)\n",
        "plt.ylabel(\"Number of Installs\", fontsize=14)\n",
        "plt.title(\"Scatter Plot of Size vs Number of Installs\", fontsize=16)\n",
        "\n",
        "\n",
        "# Customize tick parameters\n",
        "plt.xticks(rotation=45, ha='right', fontsize=12)\n",
        "plt.yticks(fontsize=12)\n",
        "\n",
        "# Adding a legend\n",
        "plt.legend(fontsize=12)\n",
        "\n",
        "# Adding a subtle background color\n",
        "plt.gca().set_facecolor('#F2F2F2')\n",
        "\n",
        "# Removing the right and top spines\n",
        "plt.gca().spines['right'].set_visible(False)\n",
        "plt.gca().spines['top'].set_visible(False)\n",
        "\n",
        "# Display the plot\n",
        "plt.tight_layout()\n",
        "plt.show()"
      ],
      "metadata": {
        "id": "pDSVCR-xrS5W"
      },
      "execution_count": null,
      "outputs": []
    },
    {
      "cell_type": "markdown",
      "source": [
        "#### It is clear from the above mentioned plot that size may impact the number of installations."
      ],
      "metadata": {
        "id": "KD50Nh2nrxtx"
      }
    },
    {
      "cell_type": "markdown",
      "source": [
        "#### Scatter Plot for Size vs. log_installs"
      ],
      "metadata": {
        "id": "2mL2pQHOrzqi"
      }
    },
    {
      "cell_type": "code",
      "source": [
        "# Set style\n",
        "sns.set(style=\"whitegrid\")\n",
        "\n",
        "# Create a figure with a larger size\n",
        "plt.figure(figsize=(12, 8))\n",
        "\n",
        "# Create the scatter plot\n",
        "sns.scatterplot(data=df_apps_clean, x='Size', y='log_installs', palette='Set2', hue=\"Type\")\n",
        "\n",
        "# Customize labels and title\n",
        "plt.xlabel(\"Size of Application (MBs)\", fontsize=14)\n",
        "plt.ylabel(\"Log of Installs\", fontsize=14)\n",
        "plt.title(\"Scatter Plot of Size vs Log Installs(base 10)\", fontsize=16)\n",
        "\n",
        "# Customize tick parameters\n",
        "plt.xticks(rotation=45, ha='right', fontsize=12)\n",
        "plt.yticks(fontsize=12)\n",
        "\n",
        "# Adding a legend\n",
        "plt.legend(fontsize=12)\n",
        "\n",
        "# Adding a subtle background color\n",
        "plt.gca().set_facecolor('#F2F2F2')\n",
        "\n",
        "# Removing the right and top spines\n",
        "plt.gca().spines['right'].set_visible(False)\n",
        "plt.gca().spines['top'].set_visible(False)\n",
        "\n",
        "# Display the plot\n",
        "plt.tight_layout()\n",
        "plt.show()"
      ],
      "metadata": {
        "id": "r5MfnAVrrhLq"
      },
      "execution_count": null,
      "outputs": []
    },
    {
      "cell_type": "markdown",
      "source": [
        " #### Bulky applications are less installed by the user."
      ],
      "metadata": {
        "id": "TYo_Y_5Ur3mY"
      }
    },
    {
      "cell_type": "markdown",
      "source": [
        "# Asking and Answering Questions\n",
        "\n",
        ">- Asking and answering questions in data analysis is like a compass for navigating a vast sea of data. It defines our goals, guides data collection, and shapes analysis techniques. It uncovers patterns, informs decisions, and fuels effective communication. Ultimately, it transforms raw data into valuable insights, driving better understanding and smarter actions.\n",
        "\n",
        "<img src=\"https://indian.memetemplates.in/uploads/1674731583.jpeg\">"
      ],
      "metadata": {
        "id": "r-ESC-pSr5qY"
      }
    },
    {
      "cell_type": "markdown",
      "source": [
        "## Q1: What are the top 20 most expensive apps in the dataset ?"
      ],
      "metadata": {
        "id": "_HY6W9Qar9ix"
      }
    },
    {
      "cell_type": "code",
      "source": [
        "df_apps_clean.Price.describe()"
      ],
      "metadata": {
        "id": "xcacKTS1raHy"
      },
      "execution_count": null,
      "outputs": []
    },
    {
      "cell_type": "code",
      "source": [
        "df_apps_clean['Price'] = df_apps_clean['Price'].astype(str).str.replace('$', \"\", regex=False)"
      ],
      "metadata": {
        "id": "JRcaATBxsAah"
      },
      "execution_count": null,
      "outputs": []
    },
    {
      "cell_type": "code",
      "source": [
        "df_apps_clean.Price = pd.to_numeric(df_apps_clean.Price)"
      ],
      "metadata": {
        "id": "1fRp92nTsCsB"
      },
      "execution_count": null,
      "outputs": []
    },
    {
      "cell_type": "code",
      "source": [
        "df_apps_clean.sort_values('Price', ascending=False).head(20)"
      ],
      "metadata": {
        "id": "N1oJkxE9sE-Q"
      },
      "execution_count": null,
      "outputs": []
    },
    {
      "cell_type": "markdown",
      "source": [
        "What’s going on here? There are 15 I am Rich Apps in the Google Play Store apparently. They all cost `$300` or more, which is the main point of the app. The story goes that in 2008, Armin Heinrich released the very first I am Rich app in the iOS App Store for `$999.90`. The app does absolutely nothing. It just displays the picture of a gemstone and can be used to prove to your friends how rich you are. Armin actually made a total of 7 sales before the app was hastily removed by Apple. Nonetheless, it inspired a bunch of copycats on the Android App Store, but if you search today, you’ll find all of these apps have disappeared as well. The high installation numbers are likely gamed by making the app was available for free at some point to get reviews and appear more legitimate.\n",
        "\n",
        "<img src=\"https://humornama.com/wp-content/uploads/2020/12/25-Din-Mein-Paisa-Double-meme-template-of-Phir-Hera-Pheri-1024x576.jpg\">"
      ],
      "metadata": {
        "id": "BtVXhaXVsIqH"
      }
    },
    {
      "cell_type": "markdown",
      "source": [
        "Leaving this bad data in our dataset will misrepresent our analysis of the most expensive 'real' apps. Here’s how we can remove these rows:"
      ],
      "metadata": {
        "id": "gcrKjsNSsLn3"
      }
    },
    {
      "cell_type": "code",
      "source": [
        "df_apps_clean = df_apps_clean[df_apps_clean['Price'] < 250]"
      ],
      "metadata": {
        "id": "HM2OaupasGew"
      },
      "execution_count": null,
      "outputs": []
    },
    {
      "cell_type": "code",
      "source": [
        "df_apps_clean.sort_values('Price', ascending=False).head(5)"
      ],
      "metadata": {
        "id": "F7PCIHhWsN_g"
      },
      "execution_count": null,
      "outputs": []
    },
    {
      "cell_type": "markdown",
      "source": [
        "**When we look at the top 5 apps now, we see that 4 out of 5 are medical apps.**"
      ],
      "metadata": {
        "id": "FG1GI6HUsTGu"
      }
    },
    {
      "cell_type": "markdown",
      "source": [
        "We can work out the highest grossing paid apps now. All we need to do is multiply the values in the price and the installs column to get the number:"
      ],
      "metadata": {
        "id": "zpoUArQ7sVYP"
      }
    },
    {
      "cell_type": "code",
      "source": [
        "df_apps_clean['Revenue_Estimate'] = df_apps_clean.Installs.mul(df_apps_clean.Price)"
      ],
      "metadata": {
        "id": "JF4yNyjIsQCP"
      },
      "execution_count": null,
      "outputs": []
    },
    {
      "cell_type": "code",
      "source": [
        "df_apps_clean.sort_values('Revenue_Estimate', ascending=False)[:10]"
      ],
      "metadata": {
        "id": "V6QNdDaxsXxu"
      },
      "execution_count": null,
      "outputs": []
    },
    {
      "cell_type": "markdown",
      "source": [
        "This generously assumes of course that all the installs would have been made at the listed price, which is unlikely, as there are always promotions and free give-aways on the App Stores.\n",
        "\n",
        "<img src=\"https://humornama.com/wp-content/uploads/2021/01/150-Rupiya-Dega-Meme-Template-of-Kachra-Seth-1024x576.jpg\">"
      ],
      "metadata": {
        "id": "iDDNhdpxsdIQ"
      }
    },
    {
      "cell_type": "markdown",
      "source": [
        "The top spot of the highest-grossing paid app goes to … Minecraft at close to $70 million. It’s quite interesting that Minecraft (along with Bloons and Card Wars) is actually listed in the Family category rather than in the Game category. If we include these titles, we see that 7 out the top 10 highest-grossing apps are games. The Google Play Store seems to be quite flexible with its category labels."
      ],
      "metadata": {
        "id": "408uKADGsk5V"
      }
    },
    {
      "cell_type": "markdown",
      "source": [
        "## Q2: What are the Most Competitive & Popular App Categories ?"
      ],
      "metadata": {
        "id": "6faexJuKsn6V"
      }
    },
    {
      "cell_type": "markdown",
      "source": [
        "### The Most Competitive & Popular App Categories"
      ],
      "metadata": {
        "id": "Iu5SymcPsq4U"
      }
    },
    {
      "cell_type": "markdown",
      "source": [
        "If you were to release an app, would you choose to go after a competitive category with many other apps? Or would you target a popular category with a high number of downloads? Or perhaps you can target a category which is both popular but also one where the downloads are spread out among many different apps. That way, even if it’s more difficult to discover among all the other apps, your app has a better chance of getting installed, right? Let’s analyse this with bar charts and scatter plots and figure out which categories are dominating the market."
      ],
      "metadata": {
        "id": "21vw7ObDss3N"
      }
    },
    {
      "cell_type": "markdown",
      "source": [
        "> We can find the number of different categories using `.nunique()` function"
      ],
      "metadata": {
        "id": "D7ysSF8msvDm"
      }
    },
    {
      "cell_type": "code",
      "source": [
        "df_apps_clean.Category.nunique()"
      ],
      "metadata": {
        "id": "SwAF5cyxsl0d"
      },
      "execution_count": null,
      "outputs": []
    },
    {
      "cell_type": "markdown",
      "source": [
        "There are 33 unique categories.\n",
        "\n",
        "To calculate the number of apps per category we can use **.value_counts()**"
      ],
      "metadata": {
        "id": "8njQGx6Kszg0"
      }
    },
    {
      "cell_type": "code",
      "source": [
        "top10_category = df_apps_clean.Category.value_counts()[:10]"
      ],
      "metadata": {
        "id": "5NPLy39gsxo8"
      },
      "execution_count": null,
      "outputs": []
    },
    {
      "cell_type": "code",
      "source": [
        "top10_category"
      ],
      "metadata": {
        "id": "SjQu6r6Ps2D8"
      },
      "execution_count": null,
      "outputs": []
    },
    {
      "cell_type": "code",
      "source": [
        "# plt.figure(figsize=(14,7))\n",
        "# plt.xticks(rotation=65)\n",
        "# plt.xlabel(\"Category\")\n",
        "# plt.ylabel(\"Number of application\")\n",
        "# plt.title(\"Top 10 Categories\")\n",
        "# plt.bar(top10_category.index,top10_category.values);"
      ],
      "metadata": {
        "id": "NYYc5kyDs3Xc"
      },
      "execution_count": null,
      "outputs": []
    },
    {
      "cell_type": "code",
      "source": [
        "\n",
        "# Create a figure with a larger size\n",
        "plt.figure(figsize=(14, 7))\n",
        "\n",
        "# Create the bar plot\n",
        "plt.bar(top10_category.index, top10_category.values, color='#86bf91', alpha=0.7)\n",
        "\n",
        "# Customize x-axis labels rotation and fontsize\n",
        "plt.xticks(rotation=45, ha='right', fontsize=12)\n",
        "\n",
        "# Customize labels and title\n",
        "plt.xlabel(\"Category\", fontsize=14)\n",
        "plt.ylabel(\"Number of Applications\", fontsize=14)\n",
        "plt.title(\"Top 10 App Categories\", fontsize=16)\n",
        "\n",
        "# Customize tick parameters\n",
        "plt.xticks(fontsize=12)\n",
        "plt.yticks(fontsize=12)\n",
        "\n",
        "# Add a grid for better readability\n",
        "plt.grid(axis='y', alpha=0.7)\n",
        "\n",
        "# Adding a subtle background color\n",
        "plt.gca().set_facecolor('#F2F2F2')\n",
        "\n",
        "# Removing the right and top spines\n",
        "plt.gca().spines['right'].set_visible(False)\n",
        "plt.gca().spines['top'].set_visible(False)\n",
        "\n",
        "# Display the plot\n",
        "plt.tight_layout()\n",
        "plt.show()"
      ],
      "metadata": {
        "id": "d9bnYVo3s5es"
      },
      "execution_count": null,
      "outputs": []
    },
    {
      "cell_type": "markdown",
      "source": [
        "Based on the number of apps, the **Family** and **Game** categories are the most competitive. Releasing yet another app into these categories will make it hard to get noticed."
      ],
      "metadata": {
        "id": "sqJ3muZks80s"
      }
    },
    {
      "cell_type": "markdown",
      "source": [
        "But what if we look at it from a different perspective? What matters is not just the total number of apps in the category but how often apps are downloaded in that category. This will give us an idea of how popular a category is. First, we have to group all our apps by category and sum the number of installations:"
      ],
      "metadata": {
        "id": "asmXoXbVs-ol"
      }
    },
    {
      "cell_type": "code",
      "source": [
        "category_installs = df_apps_clean.groupby('Category').agg({'Installs': pd.Series.sum})\n",
        "category_installs.sort_values('Installs', ascending=True, inplace=True)"
      ],
      "metadata": {
        "id": "dcblc311s6_N"
      },
      "execution_count": null,
      "outputs": []
    },
    {
      "cell_type": "code",
      "source": [
        "cat_number = df_apps_clean.groupby('Category').agg({'App': pd.Series.count})"
      ],
      "metadata": {
        "id": "Do3A9rlDtC2M"
      },
      "execution_count": null,
      "outputs": []
    },
    {
      "cell_type": "code",
      "source": [
        "cat_merged_df = pd.merge(cat_number, category_installs, on='Category', how=\"inner\")\n",
        "print(f'The dimensions of the DataFrame are: {cat_merged_df.shape}')\n",
        "cat_merged_df.sort_values('Installs', ascending=False)"
      ],
      "metadata": {
        "id": "uuE8L7E1tGbN"
      },
      "execution_count": null,
      "outputs": []
    },
    {
      "cell_type": "code",
      "source": [
        "# plt.figure(figsize=(14,7))\n",
        "# plt.title('Category Concentration')\n",
        "# sns.scatterplot(x=\"App\", # column name\n",
        "#                 y=\"Installs\",\n",
        "#                 s=100,\n",
        "#                 data=cat_merged_df);\n"
      ],
      "metadata": {
        "id": "ZCX8OwIItIMN"
      },
      "execution_count": null,
      "outputs": []
    },
    {
      "cell_type": "code",
      "source": [
        "# Set style\n",
        "sns.set(style=\"whitegrid\")\n",
        "\n",
        "# Create a figure with a larger size\n",
        "plt.figure(figsize=(14, 7))\n",
        "\n",
        "# Create the scatter plot\n",
        "sns.scatterplot(x=\"App\", y=\"Installs\", s=100, data=cat_merged_df)\n",
        "\n",
        "# Customize labels and title\n",
        "plt.xlabel(\"App\", fontsize=14)\n",
        "plt.ylabel(\"Installs\", fontsize=14)\n",
        "plt.title(\"Category Concentration\", fontsize=16)\n",
        "\n",
        "# Customize tick parameters\n",
        "plt.xticks(rotation=45, ha='right', fontsize=12)\n",
        "plt.yticks(fontsize=12)\n",
        "\n",
        "# Add a grid for better readability\n",
        "plt.grid(alpha=0.5)\n",
        "\n",
        "# Adding a subtle background color\n",
        "plt.gca().set_facecolor('#F2F2F2')\n",
        "\n",
        "# Removing the right and top spines\n",
        "plt.gca().spines['right'].set_visible(False)\n",
        "plt.gca().spines['top'].set_visible(False)\n",
        "\n",
        "# Display the plot\n",
        "plt.tight_layout()\n",
        "plt.show()"
      ],
      "metadata": {
        "id": "QXAo8Ae7tLYc"
      },
      "execution_count": null,
      "outputs": []
    },
    {
      "cell_type": "markdown",
      "source": [
        "In the above scatterplot, we can see 3 to 4 clusters of installs. Some of them are definitely outliers."
      ],
      "metadata": {
        "id": "29wcbWcStRzE"
      }
    },
    {
      "cell_type": "code",
      "source": [
        "# Set style\n",
        "sns.set(style=\"whitegrid\")\n",
        "\n",
        "# Create a figure with a larger size\n",
        "plt.figure(figsize=(14, 7))\n",
        "\n",
        "# Create the bar plot using seaborn\n",
        "sns.barplot(x=top10_category.index, y=top10_category.values)\n",
        "\n",
        "# Customize x-axis labels rotation and fontsize\n",
        "plt.xticks(rotation=45, ha='right', fontsize=12)\n",
        "\n",
        "# Customize labels and title\n",
        "plt.xlabel(\"Category\", fontsize=14)\n",
        "plt.ylabel(\"Number of Applications\", fontsize=14)\n",
        "plt.title(\"Count of Applications for Each Category\", fontsize=16)\n",
        "\n",
        "# Customize tick parameters\n",
        "plt.xticks(fontsize=12)\n",
        "plt.yticks(fontsize=12)\n",
        "\n",
        "# Add a grid for better readability\n",
        "plt.grid(axis='y', alpha=0.7)\n",
        "\n",
        "# Adding a subtle background color\n",
        "plt.gca().set_facecolor('#F2F2F2')\n",
        "\n",
        "# Removing the right and top spines\n",
        "plt.gca().spines['right'].set_visible(False)\n",
        "plt.gca().spines['top'].set_visible(False)\n",
        "\n",
        "# Display the plot\n",
        "plt.tight_layout()\n",
        "plt.show()"
      ],
      "metadata": {
        "id": "tKEikndgtOXs"
      },
      "execution_count": null,
      "outputs": []
    },
    {
      "cell_type": "markdown",
      "source": [
        "From the above barplot, we can confirm that the family category is dominating the play store categories."
      ],
      "metadata": {
        "id": "iBL-DMOxtav3"
      }
    },
    {
      "cell_type": "code",
      "source": [
        "# plt.figure(figsize=(14,7))\n",
        "# plt.xticks(rotation=65)\n",
        "# plt.xlabel(\"Category\")\n",
        "# plt.ylabel(\"Number of application\")\n",
        "# plt.title(\"Count of applications for each Category\")\n",
        "# sns.barplot(x=top10_category.index, y=top10_category.values)\n",
        "# plt.show()\n",
        "\n",
        "#---------------------------------Graph For Line plot------------------------------------------------\n",
        "\n",
        "#The same conclusion can be drawn from the line chart.\n",
        "# plt.figure(figsize=(14,7))\n",
        "# plt.xticks(rotation=65)\n",
        "# plt.xlabel(\"Category\")\n",
        "# plt.ylabel(\"Number of application\")\n",
        "# plt.title(\"Count of applications for each Category\")\n",
        "# sns.lineplot(x=top10_category.index, y=top10_category.values, marker='o', label='Line')\n",
        "# plt.show()"
      ],
      "metadata": {
        "id": "rix5IjpVtXnc"
      },
      "execution_count": null,
      "outputs": []
    },
    {
      "cell_type": "code",
      "source": [
        "df_category_installs = df_apps_clean.groupby(['Category','Type'])[['Installs']].sum().reset_index()\n",
        "df_category_installs['log(Installs)'] = np.log10(df_category_installs['Installs'])"
      ],
      "metadata": {
        "id": "6JVjyRRNtdIt"
      },
      "execution_count": null,
      "outputs": []
    },
    {
      "cell_type": "code",
      "source": [
        "plt.figure(figsize=(25,12))\n",
        "plt.xticks(rotation=75,fontsize=16)\n",
        "plt.xlabel(\"Category\", fontsize=16)\n",
        "plt.ylabel(\"Installs(base10)\", fontsize=14)\n",
        "plt.title(\"Category type wise Number of Installs(base10) \")\n",
        "sns.barplot(x='Category', y='log(Installs)', hue='Type', data=df_category_installs);\n",
        "plt.show()"
      ],
      "metadata": {
        "id": "-_bYO3WKte8d"
      },
      "execution_count": null,
      "outputs": []
    },
    {
      "cell_type": "markdown",
      "source": [
        "***We can see that the number of free applications installed by users is high when compared with the paid ones.***"
      ],
      "metadata": {
        "id": "E-2XgtYLtixM"
      }
    },
    {
      "cell_type": "markdown",
      "source": [
        "Let us save and upload our work to Jovian before continuing"
      ],
      "metadata": {
        "id": "mgi4Txp4tl1n"
      }
    },
    {
      "cell_type": "code",
      "source": [
        "# import jovian"
      ],
      "metadata": {
        "id": "Eq5Y4666tgh9"
      },
      "execution_count": null,
      "outputs": []
    },
    {
      "cell_type": "code",
      "source": [
        "# jovian.commit()"
      ],
      "metadata": {
        "id": "jeFdphpVtpX9"
      },
      "execution_count": null,
      "outputs": []
    },
    {
      "cell_type": "markdown",
      "source": [
        "## Q3: What are the top 20 Genres with their counts ?"
      ],
      "metadata": {
        "id": "kqoIaORqtt-U"
      }
    },
    {
      "cell_type": "markdown",
      "source": [
        "Let’s turn our attention to the Genres column. This is quite similar to the categories column but more granular."
      ],
      "metadata": {
        "id": "uknntHyCtwO9"
      }
    },
    {
      "cell_type": "code",
      "source": [
        "# Number of Genres\n",
        "len(df_apps_clean.Genres.unique())"
      ],
      "metadata": {
        "id": "UVc9xM2ktrYs"
      },
      "execution_count": null,
      "outputs": []
    },
    {
      "cell_type": "markdown",
      "source": [
        "#### Working with Nested Column Data"
      ],
      "metadata": {
        "id": "Q9uve242t0TE"
      }
    },
    {
      "cell_type": "code",
      "source": [
        "# Problem : Have multiple categories separated by ;\n",
        "df_apps_clean.Genres.value_counts().sort_values(ascending=True)[:5]"
      ],
      "metadata": {
        "id": "f4jZp-uDtypd"
      },
      "execution_count": null,
      "outputs": []
    },
    {
      "cell_type": "markdown",
      "source": [
        "We somehow need to separate the genre names to get a clear picture.\n",
        "For this we'll use string’s `.split()` method comes in handy. After we’ve separated our genre names based on the semi-colon, we can add them all into a single column with `.stack()` and then use `.value_counts()`."
      ],
      "metadata": {
        "id": "-wRpR9X4t6wH"
      }
    },
    {
      "cell_type": "markdown",
      "source": [
        "#### Extracting Nested Column Data using `.stack()`"
      ],
      "metadata": {
        "id": "xxqsThxut-zG"
      }
    },
    {
      "cell_type": "code",
      "source": [
        "# Split the strings on the semi-colon and then .stack them.\n",
        "stack = df_apps_clean.Genres.str.split(';', expand=True).stack()\n",
        "print(f'We now have a single column with shape: {stack.shape}')\n",
        "num_genres = stack.value_counts()\n",
        "print(f'Number of genres: {len(num_genres)}')"
      ],
      "metadata": {
        "id": "zEIKHAIgt9Oe"
      },
      "execution_count": null,
      "outputs": []
    },
    {
      "cell_type": "markdown",
      "source": [
        "**This shows us we actually have 53 different genres.**"
      ],
      "metadata": {
        "id": "g6rVnG_suEMs"
      }
    },
    {
      "cell_type": "markdown",
      "source": [
        "**Let's plot top 20 Genres with their counts**"
      ],
      "metadata": {
        "id": "ud7kBIpCuGpd"
      }
    },
    {
      "cell_type": "code",
      "source": [
        "# plt.figure(figsize=(14,7))\n",
        "# plt.xticks(rotation=75)\n",
        "# plt.xlabel(\"Genres\")\n",
        "# plt.ylabel(\"Counts\")\n",
        "# plt.title('Top Genres')\n",
        "# sns.barplot(x = num_genres.index[:20],  y = num_genres.values[:20])\n",
        "# plt.show()"
      ],
      "metadata": {
        "id": "Alsl8u73uBKd"
      },
      "execution_count": null,
      "outputs": []
    },
    {
      "cell_type": "code",
      "source": [
        "plt.figure(figsize=(14, 7))\n",
        "\n",
        "# Adjusting style\n",
        "sns.set(style=\"whitegrid\")\n",
        "palette = sns.color_palette(\"viridis\", len(num_genres.index[:20]))\n",
        "\n",
        "# Creating the bar plot\n",
        "ax = sns.barplot(x=num_genres.index[:20], y=num_genres.values[:20], palette=palette)\n",
        "\n",
        "# Adding labels and title\n",
        "plt.xticks(rotation=75)\n",
        "plt.xlabel(\"Genres\", fontsize=14)\n",
        "plt.ylabel(\"Counts\", fontsize=14)\n",
        "plt.title('Top 20 Genres of Apps', fontsize=16)\n",
        "\n",
        "# Adding annotations to the bars\n",
        "for p in ax.patches:\n",
        "    ax.annotate(format(p.get_height(), '.0f'),\n",
        "                (p.get_x() + p.get_width() / 2., p.get_height()),\n",
        "                ha = 'center', va = 'center',\n",
        "                xytext = (0, 9),\n",
        "                textcoords = 'offset points',\n",
        "                fontsize=10, color='black')\n",
        "\n",
        "plt.tight_layout()\n",
        "plt.show()"
      ],
      "metadata": {
        "id": "FA1VVGohuIpN"
      },
      "execution_count": null,
      "outputs": []
    },
    {
      "cell_type": "markdown",
      "source": [
        "Here we have our top genres, i.e., tools, education, entertainment, action, and lifestyle finance productivity."
      ],
      "metadata": {
        "id": "M9ckG2j6uNxU"
      }
    },
    {
      "cell_type": "code",
      "source": [
        "# Let's save the work"
      ],
      "metadata": {
        "id": "v-p1cu1-uKUN"
      },
      "execution_count": null,
      "outputs": []
    },
    {
      "cell_type": "code",
      "source": [
        "# import jovian"
      ],
      "metadata": {
        "id": "DOAeSbByuUb9"
      },
      "execution_count": null,
      "outputs": []
    },
    {
      "cell_type": "code",
      "source": [
        "# jovian.commit()"
      ],
      "metadata": {
        "id": "cXEoGFfbuX4c"
      },
      "execution_count": null,
      "outputs": []
    },
    {
      "cell_type": "markdown",
      "source": [
        "## Q4:  What are the count of applications in each category differentiated by their type? What are the top free and paid categories ?"
      ],
      "metadata": {
        "id": "eaX5R5YQucVm"
      }
    },
    {
      "cell_type": "markdown",
      "source": [
        "Now that we’ve looked at the total number of apps per category and the total number of apps per genre, let’s see what the split is between free and paid apps."
      ],
      "metadata": {
        "id": "xY6j7y_iufME"
      }
    },
    {
      "cell_type": "code",
      "source": [
        "df_apps_clean.Type.value_counts()"
      ],
      "metadata": {
        "id": "v4BudZwUuaOs"
      },
      "execution_count": null,
      "outputs": []
    },
    {
      "cell_type": "markdown",
      "source": [
        "We see that the majority of apps are free on the Google Play Store. But perhaps some categories have more paid apps than others. Let’s investigate. We can group our data first by Category and then by Type. Then we can add up the number of apps per each type. Using as_index=False we push all the data into columns rather than end up with our Categories as the index."
      ],
      "metadata": {
        "id": "TYKzSjySujg9"
      }
    },
    {
      "cell_type": "code",
      "source": [
        "df_free_vs_paid = df_apps_clean.groupby([\"Category\", \"Type\"], as_index=False).agg({'App': pd.Series.count})\n",
        "df_free_vs_paid.head()"
      ],
      "metadata": {
        "id": "Z7RG40wouh58"
      },
      "execution_count": null,
      "outputs": []
    },
    {
      "cell_type": "code",
      "source": [
        "df_free_vs_paid"
      ],
      "metadata": {
        "id": "KjV_fmxjummu"
      },
      "execution_count": null,
      "outputs": []
    },
    {
      "cell_type": "markdown",
      "source": [
        "Unsurprisingly the biggest categories have the most paid apps. However, there might be some patterns if we put the numbers of a graph!"
      ],
      "metadata": {
        "id": "r5n-0Pfeup-s"
      }
    },
    {
      "cell_type": "markdown",
      "source": [
        "***The above sorted plot by their number of counts shows that Family, Games, and Tools are the categories with the most number of apps.***"
      ],
      "metadata": {
        "id": "PqlfxyDdur7U"
      }
    },
    {
      "cell_type": "markdown",
      "source": [
        "### Play Store Apps Types: Free or Paid\n",
        "It'd be interesting to see the comparison between the total number of free and paid applications in this dataset just to get an idea of which one is the majority."
      ],
      "metadata": {
        "id": "FMGBpTlYuuBk"
      }
    },
    {
      "cell_type": "code",
      "source": [
        "plt.figure(figsize=(7,5))\n",
        "plt.title(\"Count of Free vs Paid Apps by Category\")\n",
        "plt.xlabel(\"Type (Free/Paid)\")\n",
        "plt.ylabel(\"Total Count\")\n",
        "g=sns.countplot(x=df_free_vs_paid.Type, palette=\"pastel\");\n",
        "plt.show()"
      ],
      "metadata": {
        "id": "vVns6WEhuoNc"
      },
      "execution_count": null,
      "outputs": []
    },
    {
      "cell_type": "markdown",
      "source": [
        "We can clearly see that the number of free apps dominates the Android market."
      ],
      "metadata": {
        "id": "IX6R6dL1uyU0"
      }
    },
    {
      "cell_type": "markdown",
      "source": [
        "#### As per above data and bar plot shows that the number of free applications installed by the user are high when compared with the paid ones."
      ],
      "metadata": {
        "id": "yqpBcvmbu0Pj"
      }
    },
    {
      "cell_type": "code",
      "source": [
        "plt.figure(figsize=(12,6))\n",
        "plt.title(\"Percentages(%) of Play Store Apps that are either Free or Paid\")\n",
        "label = df_free_vs_paid.Type.value_counts().index\n",
        "g = plt.pie(df_free_vs_paid.Type.value_counts(), explode=(0.025,0.025), labels=label, colors=['skyblue','navajowhite'],autopct='%1.1f%%', startangle=180);\n",
        "plt.legend()\n",
        "plt.show();"
      ],
      "metadata": {
        "id": "p9FibtV_uwtM"
      },
      "execution_count": null,
      "outputs": []
    },
    {
      "cell_type": "markdown",
      "source": [
        "There 54.1% apps are free and rest are the paid apps"
      ],
      "metadata": {
        "id": "47cNq4BVu4v0"
      }
    },
    {
      "cell_type": "markdown",
      "source": [
        "### Contrasting Free vs. Paid Apps per Category"
      ],
      "metadata": {
        "id": "2o_hu0UBu7cc"
      }
    },
    {
      "cell_type": "markdown",
      "source": [
        "What we see is that while there are very few paid apps on the Google Play Store, some categories have relatively more paid apps than others, including Personalization, Medical and Weather. So, depending on the category you are targeting, it might make sense to release a paid-for app."
      ],
      "metadata": {
        "id": "E1K2gVO4u93U"
      }
    },
    {
      "cell_type": "code",
      "source": [
        "app_count = df_apps_clean.groupby(['Category','Type'])[['App']].count().reset_index().rename(columns={'App':'Count','index':'App'})"
      ],
      "metadata": {
        "id": "y3fWfHGju2hs"
      },
      "execution_count": null,
      "outputs": []
    },
    {
      "cell_type": "code",
      "source": [
        "df_app_count = app_count.pivot('Category', 'Type', 'Count').fillna(0).reset_index()"
      ],
      "metadata": {
        "id": "V6Bqk-wVvBT8"
      },
      "execution_count": null,
      "outputs": []
    },
    {
      "cell_type": "code",
      "source": [
        "# Set style\n",
        "sns.set(style=\"whitegrid\")\n",
        "\n",
        "# Create a figure with a larger size\n",
        "plt.figure(figsize=(18, 9))\n",
        "\n",
        "# Create the stacked bar plot\n",
        "ax = df_app_count.set_index('Category').plot(kind='bar', stacked=True, figsize=(18, 9))\n",
        "\n",
        "# labels and title\n",
        "plt.xlabel(\"Category\", fontsize=15)\n",
        "plt.ylabel(\"Count of Applications\", fontsize=15)\n",
        "plt.title(\"Count of Applications in Each Category Differentiated by Their Type\", fontsize=16)\n",
        "\n",
        "# Add a grid for better readability\n",
        "plt.grid(alpha=0.5)\n",
        "\n",
        "# Adding a subtle background color\n",
        "plt.gca().set_facecolor('#F2F2F2')\n",
        "\n",
        "# Removing the right and top spines\n",
        "plt.gca().spines['right'].set_visible(False)\n",
        "plt.gca().spines['top'].set_visible(False)\n",
        "\n",
        "# Display the plot\n",
        "plt.tight_layout()\n",
        "plt.show();"
      ],
      "metadata": {
        "id": "A8khUmg3vDTt"
      },
      "execution_count": null,
      "outputs": []
    },
    {
      "cell_type": "markdown",
      "source": [
        "It looks like certain app categories have more free apps available for download than others."
      ],
      "metadata": {
        "id": "5VEee1STvHf7"
      }
    },
    {
      "cell_type": "markdown",
      "source": [
        "#### We can clearly see that the majority of apps in Family, Food & Drink and Tools, as well as Social categories were free to install. At the same time Family, Sports, Tools and Medical categories had the biggest number of paid apps available for download."
      ],
      "metadata": {
        "id": "aWYOtak4vJhc"
      }
    },
    {
      "cell_type": "markdown",
      "source": [
        "### Q5. How frequently Play Stores applications updated each year ?"
      ],
      "metadata": {
        "id": "PInSqdAdvL1E"
      }
    },
    {
      "cell_type": "markdown",
      "source": [
        "#### Content Updated each year"
      ],
      "metadata": {
        "id": "XgpdnOCavP3v"
      }
    },
    {
      "cell_type": "code",
      "source": [
        "df_apps_year = df_apps_clean['Last Updated'].value_counts().to_frame().reset_index().rename(columns={'index': 'Year','Last Updated':'Count'})\n",
        "\n",
        "df_apps_year"
      ],
      "metadata": {
        "id": "v92izcegvFDN"
      },
      "execution_count": null,
      "outputs": []
    },
    {
      "cell_type": "code",
      "source": [
        "fig, ax = plt.subplots(figsize=(10, 8))\n",
        "sns.lineplot(data=df_apps_year, x='Year', y='Count')\n",
        "\n",
        "# Adding title and labels\n",
        "plt.title(\"Total Apps Updated Each Year (up to 2019)\", fontsize=16)\n",
        "plt.ylabel(\"Count of Applications\", fontsize=14)\n",
        "plt.xlabel(\"Year\", fontsize=14)\n",
        "\n",
        "# Adding a background color\n",
        "ax.set_facecolor('#f0f0f0')\n",
        "\n",
        "# Adding a legend\n",
        "ax.legend(['Count'], loc='upper left', fontsize=12)\n",
        "\n",
        "plt.show()"
      ],
      "metadata": {
        "id": "gld4JKc4vS68"
      },
      "execution_count": null,
      "outputs": []
    },
    {
      "cell_type": "markdown",
      "source": [
        "From the above line plot, we're not getting more information, but we can surely say that updated versions of apps came recently.\n",
        "<img src=\"https://humornama.com/wp-content/uploads/2022/01/Ye-Sab-Kya-Dekhna-Pad-Raha-Hai-Meme-Template-on-Deewane-Huye-Paagal-1024x410.jpg\">\n",
        "We need to draw one more line plot so that we can figure out what was happening."
      ],
      "metadata": {
        "id": "TD4Nk6KsvYYk"
      }
    },
    {
      "cell_type": "code",
      "source": [
        "df_last_updated_year = pd.DataFrame(df_apps_year['Year'])"
      ],
      "metadata": {
        "id": "DpdckY7vvVnN"
      },
      "execution_count": null,
      "outputs": []
    },
    {
      "cell_type": "code",
      "source": [
        "df_last_updated_year['date_column'] = pd.to_datetime(df_last_updated_year['Year'])"
      ],
      "metadata": {
        "id": "jIeGXwB_vbT8"
      },
      "execution_count": null,
      "outputs": []
    },
    {
      "cell_type": "code",
      "source": [
        "df_last_updated_year['year'] =df_last_updated_year['date_column'].dt.year"
      ],
      "metadata": {
        "id": "hsmB_vruvdEc"
      },
      "execution_count": null,
      "outputs": []
    },
    {
      "cell_type": "code",
      "source": [
        "print(df_last_updated_year)"
      ],
      "metadata": {
        "id": "k3Q1olHbveg9"
      },
      "execution_count": null,
      "outputs": []
    },
    {
      "cell_type": "code",
      "source": [
        "# fig, ax = plt.subplots(figsize=(10, 8))\n",
        "# sns.lineplot(data=df_apps_year, x=df_last_updated_year['year'], y='Count')\n",
        "\n",
        "\n",
        "# plt.title(\"Total Apps updated each year (up to 2018)\")\n",
        "# plt.ylabel(\"Count\")\n",
        "# plt.xlabel(\"Year\")\n",
        "# plt.show()"
      ],
      "metadata": {
        "id": "Nrd_lcKFvfxq"
      },
      "execution_count": null,
      "outputs": []
    },
    {
      "cell_type": "code",
      "source": [
        "# Create a figure and axes with a larger size\n",
        "fig, ax = plt.subplots(figsize=(10, 8))\n",
        "\n",
        "# Create the line plot using seaborn\n",
        "sns.lineplot(data=df_apps_year, x=df_last_updated_year['year'], y='Count')\n",
        "\n",
        "# Customize labels and title\n",
        "plt.title(\"Total Apps Updated Each Year (up to 2018)\", fontsize=16)\n",
        "plt.ylabel(\"Count of Applications\", fontsize=14)\n",
        "plt.xlabel(\"Year\", fontsize=14)\n",
        "\n",
        "# Customize tick parameters\n",
        "plt.xticks(fontsize=12)\n",
        "plt.yticks(fontsize=12)\n",
        "\n",
        "# Add a grid for better readability\n",
        "plt.grid(alpha=0.5)\n",
        "\n",
        "# Adding a subtle background color\n",
        "ax.set_facecolor('#F2F2F2')\n",
        "\n",
        "\n",
        "# Display the plot\n",
        "plt.tight_layout()\n",
        "plt.show()"
      ],
      "metadata": {
        "id": "c0yUTthsvhy7"
      },
      "execution_count": null,
      "outputs": []
    },
    {
      "cell_type": "markdown",
      "source": [
        "From the above line plot, we can conclude that after 2016, applications got updated regularly, which means creators are constantly improving their products.\n",
        "One more insight: we can also predict that before 2014, the availability of the Internet was not up to par, and the number of Android users was low."
      ],
      "metadata": {
        "id": "xL1Sa9aUvlnM"
      }
    },
    {
      "cell_type": "code",
      "source": [
        "# import jovian"
      ],
      "metadata": {
        "id": "sPVcnEXQvjRa"
      },
      "execution_count": null,
      "outputs": []
    },
    {
      "cell_type": "code",
      "source": [
        "# jovian.commit()"
      ],
      "metadata": {
        "id": "qLpWIguFvqvq"
      },
      "execution_count": null,
      "outputs": []
    },
    {
      "cell_type": "markdown",
      "source": [
        "## Inferences and Conclusion\n",
        "\n",
        "* In our dataset, we actually have **53 different genres**.\n",
        "* Based on the number of apps, the **Family and Game categories** are the most competitive. Releasing yet another app into these categories will make it hard to get noticed.\n",
        "\n",
        "* It looks like certain app categories have more free apps available for download than others.\n",
        "\n",
        "* It can be concluded that the number of **free applications** installed by the user are high when compared with the **paid ones**.\n",
        "\n",
        "* The majority of apps in **Family**, **Food & Drink** and **Tools**, as well as **Social categories** were free to install.**\n",
        "\n",
        "* **At the same time Family, Sports, Tools and Medical categories had the biggest number of paid apps available for download.**\n",
        "\n",
        "* What we see is that while there are very few paid apps on the Google Play Store, some categories have relatively more paid apps than others, including Personalization, Medical and Weather. So, depending on the category you are targeting, it might make sense to release a paid-for app."
      ],
      "metadata": {
        "id": "eV_W9QWWvuxU"
      }
    },
    {
      "cell_type": "code",
      "source": [
        "# import jovian"
      ],
      "metadata": {
        "id": "kcKQ5gEnvtGp"
      },
      "execution_count": null,
      "outputs": []
    },
    {
      "cell_type": "code",
      "source": [
        "# jovian.commit()"
      ],
      "metadata": {
        "id": "xrr60_MOvx1W"
      },
      "execution_count": null,
      "outputs": []
    },
    {
      "cell_type": "markdown",
      "source": [
        "# References and Future Work\n",
        "\n",
        "\n",
        "### References -\n",
        "\n",
        ">- **Numerical computing with Numpy**: https://jovian.ai/aakashns/python-numerical-computing-with-numpy\n",
        ">- **100 Numpy exercises**: https://jovian.ai/aakashns/100-numpy-exercises\n",
        ">- **Working with OS & files**: https://jovian.ai/aakashns/python-os-and-filesystem\n",
        ">- **Matplotlib & Seaborn tutorial:** https://jovian.ai/aakashns/python-matplotlib-data-visualization\n",
        ">- **Data visualization cheat sheet:** https://jovian.ai/aakashns/dataviz-cheatsheet\n",
        "> - Find an interesting dataset on this page: https://www.kaggle.com/datasets?fileType=csv\n",
        "> - Download the dataset using the [`opendatasets` Python library](https://github.com/JovianML/opendatasets#opendatasets)\n",
        ">- I got this dataset from Kaggle and Here is the link to the dataset - https://www.kaggle.com/lava18/google-play-store-apps\n",
        ">- You can also use the following dataset - https://www.kaggle.com/datasets/neomatrix369/google-play-store-apps-extended. which is the extended version of original dataset.\n",
        "\n",
        ">- **1. Learn more about scientific calculations using NumPy** - https://numpy.org/\n",
        ">- **2. For knowing more about pandas and it's functions in deatil** - https://pandas.pydata.org\n",
        ">- **3. For more ideas on Matplotlib and it's library**- https://matplotlib.org\n",
        ">- **4. Also for many coding related doubts, You can head over to** - https://www.w3schools.com\n",
        ">- **5. For doubts solution we have our good and old friend StackOverflow** - https://stackoverflow.com\n",
        "\n",
        ">- Apart from all of these I have done some paid courses on **Udemy** such as **100 Days of Code: The Complete Python Pro Bootcamp for 2023**, taught by **Dr. Angela Yu**, https://www.udemy.com/course/100-days-of-code/\n",
        "\n",
        "\n",
        ">- **Special thanks to memes**\n",
        ">-1. https://humornama.com/wp-content/uploads/2020/12/25-Din-Mein-Paisa-Double-meme-template-of-Phir-Hera-Pheri-1024x576.jpg\n",
        ">-2. https://indian.memetemplates.in/uploads/1674731583.jpeg\n",
        ">-3. https://humornama.com/wp-content/uploads/2022/01/Ye-Sab-Kya-Dekhna-Pad-Raha-Hai-Meme-Template-on-Deewane-Huye-Paagal-1024x410.jpg\n",
        "\n",
        "\n",
        "\n",
        "\n",
        "\n",
        "\n",
        "### Future Work-\n",
        ">- *I want to work more on the topics of the **App Store** and **Play Store** and also do the analysis on the same type of dataset, but that will not be bound to any specific operating system.*\n",
        ">- *I'll do the analysis on the same topic but with a more recently updated large dataset. I'm trying to find such a dataset for my future work because The Play Store app data has enormous potential to drive app-making businesses to success. Actionable insights can be drawn for developers to work on and capture the Android market!*\n",
        ">- I'll try to Implement Machine Learning models on this dataset.\n",
        ">- Prediction of the number of users by using the regression model.\n",
        ">- Recommender System\n",
        "\n",
        "\n",
        "\n",
        "/*\n",
        "    **कर्मण्येवाधिकारस्ते मा फलेषु कदाचन।**\n",
        "    **मा कर्मफलहेतुर्भूर्मा ते सङ्गोऽस्त्वकर्मणि॥**\n",
        "\n",
        "    Karmanye vadhikaraste Ma Phaleshu Kadachana,\n",
        "    Ma Karmaphalaheturbhurma Te Sangostvakarmani,\n",
        "\n",
        "    The meaning of the verse is :—\n",
        "    You have the right to work only but never to its fruits.\n",
        "    Let not the fruits of action be your motive, nor let your attachment be to inaction\n",
        "   \n",
        "*/"
      ],
      "metadata": {
        "id": "OlqoUJVXv0zc"
      }
    },
    {
      "cell_type": "code",
      "source": [
        "# import jovain"
      ],
      "metadata": {
        "id": "D2lfLkXavzTE"
      },
      "execution_count": null,
      "outputs": []
    },
    {
      "cell_type": "code",
      "source": [
        "# jovian.commit()"
      ],
      "metadata": {
        "id": "TSjgVvTVv6oV"
      },
      "execution_count": null,
      "outputs": []
    },
    {
      "cell_type": "code",
      "source": [],
      "metadata": {
        "id": "1MR2D4Dnv8V0"
      },
      "execution_count": null,
      "outputs": []
    }
  ]
}